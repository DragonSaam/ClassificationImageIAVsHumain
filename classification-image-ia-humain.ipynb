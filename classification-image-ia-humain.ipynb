{
 "cells": [
  {
   "cell_type": "code",
   "execution_count": 1,
   "id": "643bbc70",
   "metadata": {
    "_cell_guid": "b1076dfc-b9ad-4769-8c92-a6c4dae69d19",
    "_uuid": "8f2839f25d086af736a60e9eeb907d3b93b6e0e5",
    "execution": {
     "iopub.execute_input": "2025-03-05T07:40:52.504737Z",
     "iopub.status.busy": "2025-03-05T07:40:52.504379Z",
     "iopub.status.idle": "2025-03-05T07:40:53.242101Z",
     "shell.execute_reply": "2025-03-05T07:40:53.241360Z"
    },
    "papermill": {
     "duration": 0.744488,
     "end_time": "2025-03-05T07:40:53.243674",
     "exception": false,
     "start_time": "2025-03-05T07:40:52.499186",
     "status": "completed"
    },
    "tags": []
   },
   "outputs": [],
   "source": [
    "# This Python 3 environment comes with many helpful analytics libraries installed\n",
    "# It is defined by the kaggle/python Docker image: https://github.com/kaggle/docker-python\n",
    "# For example, here's several helpful packages to load\n",
    "\n",
    "import numpy as np # linear algebra\n",
    "import pandas as pd # data processing, CSV file I/O (e.g. pd.read_csv)\n",
    "\n",
    "# Input data files are available in the read-only \"../input/\" directory\n",
    "# For example, running this (by clicking run or pressing Shift+Enter) will list all files under the input directory\n",
    "\n",
    "import os\n",
    "#for dirname, _, filenames in os.walk('/kaggle/input'):\n",
    "#    for filename in filenames:\n",
    "#        print(os.path.join(dirname, filename))\n",
    "\n",
    "# You can write up to 20GB to the current directory (/kaggle/working/) that gets preserved as output when you create a version using \"Save & Run All\" \n",
    "# You can also write temporary files to /kaggle/temp/, but they won't be saved outside of the current session"
   ]
  },
  {
   "cell_type": "code",
   "execution_count": 2,
   "id": "fd6992a3",
   "metadata": {
    "execution": {
     "iopub.execute_input": "2025-03-05T07:40:53.252559Z",
     "iopub.status.busy": "2025-03-05T07:40:53.252160Z",
     "iopub.status.idle": "2025-03-05T07:41:15.721891Z",
     "shell.execute_reply": "2025-03-05T07:41:15.721091Z"
    },
    "papermill": {
     "duration": 22.475671,
     "end_time": "2025-03-05T07:41:15.723522",
     "exception": false,
     "start_time": "2025-03-05T07:40:53.247851",
     "status": "completed"
    },
    "tags": []
   },
   "outputs": [],
   "source": [
    "#Import Bibliotheques - Import Library\n",
    "import torch\n",
    "import torch.nn as nn\n",
    "import torch.nn.functional as F\n",
    "from torch.utils.data import DataLoader, Dataset\n",
    "from torchvision import models, transforms\n",
    "from transformers import ViTForImageClassification\n",
    "from PIL import Image\n",
    "import pandas as pd\n",
    "from sklearn.model_selection import train_test_split"
   ]
  },
  {
   "cell_type": "code",
   "execution_count": 3,
   "id": "17d24158",
   "metadata": {
    "execution": {
     "iopub.execute_input": "2025-03-05T07:41:15.732615Z",
     "iopub.status.busy": "2025-03-05T07:41:15.732076Z",
     "iopub.status.idle": "2025-03-05T07:41:15.970020Z",
     "shell.execute_reply": "2025-03-05T07:41:15.968999Z"
    },
    "papermill": {
     "duration": 0.24386,
     "end_time": "2025-03-05T07:41:15.971455",
     "exception": false,
     "start_time": "2025-03-05T07:41:15.727595",
     "status": "completed"
    },
    "tags": []
   },
   "outputs": [
    {
     "name": "stdout",
     "output_type": "stream",
     "text": [
      "   Unnamed: 0                                          file_name  label\n",
      "0           0  /kaggle/input/ai-vs-human-generated-dataset/tr...      1\n",
      "1           1  /kaggle/input/ai-vs-human-generated-dataset/tr...      0\n",
      "2           2  /kaggle/input/ai-vs-human-generated-dataset/tr...      1\n",
      "3           3  /kaggle/input/ai-vs-human-generated-dataset/tr...      0\n",
      "4           4  /kaggle/input/ai-vs-human-generated-dataset/tr...      1\n"
     ]
    }
   ],
   "source": [
    "#Importation des fichiers csv et création du chemin de récupération des images\n",
    "#Import CSV files and create recuperation path for images\n",
    "\n",
    "folder_path = \"/kaggle/input/ai-vs-human-generated-dataset\"\n",
    "train_csv_path = '/kaggle/input/ai-vs-human-generated-dataset/train.csv'\n",
    "train_csv = pd.read_csv(train_csv_path)\n",
    "\n",
    "def get_image_path(folder_path, image_name) :\n",
    "    return os.path.join(folder_path, image_name)\n",
    "\n",
    "#Ajout du chemin complet de l'image dans file_name\n",
    "#Add complet path of the image in the colomns file_name\n",
    "train_csv['file_name'] = train_csv['file_name'].apply(lambda name : get_image_path(folder_path, name))\n",
    "\n",
    "\n",
    "print(train_csv.head())"
   ]
  },
  {
   "cell_type": "code",
   "execution_count": 4,
   "id": "af619821",
   "metadata": {
    "execution": {
     "iopub.execute_input": "2025-03-05T07:41:15.980512Z",
     "iopub.status.busy": "2025-03-05T07:41:15.980219Z",
     "iopub.status.idle": "2025-03-05T07:41:16.000249Z",
     "shell.execute_reply": "2025-03-05T07:41:15.999267Z"
    },
    "papermill": {
     "duration": 0.026126,
     "end_time": "2025-03-05T07:41:16.001985",
     "exception": false,
     "start_time": "2025-03-05T07:41:15.975859",
     "status": "completed"
    },
    "tags": []
   },
   "outputs": [],
   "source": [
    "#Chargement d'un Dataset léger pour tester mon code\n",
    "#Low weight dataset loding - in order to test my code before the big loading\n",
    "train_test_csv = train_csv.head(1000)\n",
    "train_data_set = train_test_csv\n",
    "\n",
    "#Chargement du Dataset complet\n",
    "#Full dataset loading\n",
    "train_data_set = train_csv\n",
    "\n",
    "df = pd.DataFrame(train_data_set)\n",
    "\n",
    "#Dataset splité\n",
    "train_df, test_df = train_test_split(df, test_size=0.1, random_state=42)\n",
    "val_df, test_df = train_test_split(test_df, test_size=0.5, random_state=42)"
   ]
  },
  {
   "cell_type": "code",
   "execution_count": 5,
   "id": "8f9cfeb7",
   "metadata": {
    "execution": {
     "iopub.execute_input": "2025-03-05T07:41:16.013560Z",
     "iopub.status.busy": "2025-03-05T07:41:16.013210Z",
     "iopub.status.idle": "2025-03-05T07:41:16.018892Z",
     "shell.execute_reply": "2025-03-05T07:41:16.017822Z"
    },
    "papermill": {
     "duration": 0.013963,
     "end_time": "2025-03-05T07:41:16.020430",
     "exception": false,
     "start_time": "2025-03-05T07:41:16.006467",
     "status": "completed"
    },
    "tags": []
   },
   "outputs": [],
   "source": [
    "# Définir des transformations\n",
    "#Define transformations\n",
    "transform = transforms.Compose([\n",
    "    transforms.Resize((224, 224)),  # Taille requise pour Vit\n",
    "    transforms.RandomHorizontalFlip(),  # Rotation aléatoire jusqu'à 15°\n",
    "    transforms.RandomRotation(15),\n",
    "    transforms.ToTensor(),       # Convertir en tenseur PyTorch\n",
    "    transforms.Normalize(mean=[0.5, 0.5, 0.5], std=[0.5, 0.5, 0.5])\n",
    "])"
   ]
  },
  {
   "cell_type": "code",
   "execution_count": 6,
   "id": "f13e8c18",
   "metadata": {
    "execution": {
     "iopub.execute_input": "2025-03-05T07:41:16.030428Z",
     "iopub.status.busy": "2025-03-05T07:41:16.030182Z",
     "iopub.status.idle": "2025-03-05T07:41:16.036727Z",
     "shell.execute_reply": "2025-03-05T07:41:16.035674Z"
    },
    "papermill": {
     "duration": 0.012854,
     "end_time": "2025-03-05T07:41:16.038678",
     "exception": false,
     "start_time": "2025-03-05T07:41:16.025824",
     "status": "completed"
    },
    "tags": []
   },
   "outputs": [],
   "source": [
    "#Création d'un DataLoader avec une classe\n",
    "#Dataloader own class creation\n",
    "class CustomDataset(Dataset):\n",
    "    def __init__(self, dataframe, transform=None):\n",
    "        self.dataframe = dataframe\n",
    "        self.transform = transform\n",
    "\n",
    "    def __len__(self):\n",
    "        return len(self.dataframe)\n",
    "\n",
    "    def __getitem__(self, idx):\n",
    "        img_path = self.dataframe.iloc[idx]['file_name']\n",
    "        label = self.dataframe.iloc[idx]['label']\n",
    "\n",
    "        # Charger l'image\n",
    "        # load image\n",
    "        image = Image.open(img_path).convert(\"RGB\")\n",
    "\n",
    "        # Appliquer les transformations si spécifiées\n",
    "        # Apply transformation\n",
    "        if self.transform:\n",
    "            image = self.transform(image)\n",
    "\n",
    "        return image, torch.tensor(label, dtype=torch.float32)"
   ]
  },
  {
   "cell_type": "code",
   "execution_count": 7,
   "id": "5d9fbf3d",
   "metadata": {
    "execution": {
     "iopub.execute_input": "2025-03-05T07:41:16.053610Z",
     "iopub.status.busy": "2025-03-05T07:41:16.053146Z",
     "iopub.status.idle": "2025-03-05T07:41:16.058526Z",
     "shell.execute_reply": "2025-03-05T07:41:16.057491Z"
    },
    "papermill": {
     "duration": 0.0141,
     "end_time": "2025-03-05T07:41:16.060004",
     "exception": false,
     "start_time": "2025-03-05T07:41:16.045904",
     "status": "completed"
    },
    "tags": []
   },
   "outputs": [],
   "source": [
    "#Création d'une instance de DataSet customisé\n",
    "#Dataset with transformation creation\n",
    "\n",
    "#custom_dataset = CustomDataset(df, transform=transform)\n",
    "#Dataset splité\n",
    "train_dataset = CustomDataset(train_df, transform=transform)\n",
    "val_dataset = CustomDataset(val_df, transform=transform)\n",
    "test_dataset = CustomDataset(test_df, transform=transform)"
   ]
  },
  {
   "cell_type": "code",
   "execution_count": 8,
   "id": "c23de83b",
   "metadata": {
    "execution": {
     "iopub.execute_input": "2025-03-05T07:41:16.070287Z",
     "iopub.status.busy": "2025-03-05T07:41:16.070052Z",
     "iopub.status.idle": "2025-03-05T07:41:16.074329Z",
     "shell.execute_reply": "2025-03-05T07:41:16.073540Z"
    },
    "papermill": {
     "duration": 0.010189,
     "end_time": "2025-03-05T07:41:16.075723",
     "exception": false,
     "start_time": "2025-03-05T07:41:16.065534",
     "status": "completed"
    },
    "tags": []
   },
   "outputs": [],
   "source": [
    "#Création d'un Dataloader pour itération des données\n",
    "#Dataloader for data iteration\n",
    "\n",
    "#custom_loader = DataLoader(custom_dataset, batch_size=32, shuffle=True)\n",
    "#Dataset splité\n",
    "train_loader = DataLoader(train_dataset, batch_size=16, shuffle=True)\n",
    "val_loader = DataLoader(val_dataset, batch_size=16, shuffle=False)\n",
    "test_loader = DataLoader(test_dataset, batch_size=16, shuffle=False)"
   ]
  },
  {
   "cell_type": "code",
   "execution_count": 9,
   "id": "5e4c0883",
   "metadata": {
    "execution": {
     "iopub.execute_input": "2025-03-05T07:41:16.088898Z",
     "iopub.status.busy": "2025-03-05T07:41:16.088432Z",
     "iopub.status.idle": "2025-03-05T07:41:22.274817Z",
     "shell.execute_reply": "2025-03-05T07:41:22.273854Z"
    },
    "papermill": {
     "duration": 6.194751,
     "end_time": "2025-03-05T07:41:22.276476",
     "exception": false,
     "start_time": "2025-03-05T07:41:16.081725",
     "status": "completed"
    },
    "tags": []
   },
   "outputs": [
    {
     "name": "stderr",
     "output_type": "stream",
     "text": [
      "Downloading: \"https://download.pytorch.org/models/convnext_base-6075fbad.pth\" to /root/.cache/torch/hub/checkpoints/convnext_base-6075fbad.pth\n",
      "100%|██████████| 338M/338M [00:04<00:00, 82.1MB/s]\n"
     ]
    }
   ],
   "source": [
    "# Charger le modèle ConvNeXt pré-entraîné d'origine\n",
    "model = models.convnext_base(weights=\"DEFAULT\")\n",
    "# Adapter la dernière couche pour une sortie binaire\n",
    "num_features = model.classifier[2].in_features\n",
    "model.classifier[2] = nn.Sequential(\n",
    "    nn.Linear(num_features, 1),  # Une seule sortie pour binaire\n",
    "    nn.Sigmoid()  # Activation sigmoïde pour probabilité\n",
    ")\n",
    "\n"
   ]
  },
  {
   "cell_type": "code",
   "execution_count": 10,
   "id": "4af1c119",
   "metadata": {
    "execution": {
     "iopub.execute_input": "2025-03-05T07:41:22.289618Z",
     "iopub.status.busy": "2025-03-05T07:41:22.289302Z",
     "iopub.status.idle": "2025-03-05T07:41:22.292516Z",
     "shell.execute_reply": "2025-03-05T07:41:22.291727Z"
    },
    "papermill": {
     "duration": 0.011014,
     "end_time": "2025-03-05T07:41:22.293790",
     "exception": false,
     "start_time": "2025-03-05T07:41:22.282776",
     "status": "completed"
    },
    "tags": []
   },
   "outputs": [],
   "source": [
    "#import os\n",
    "#print(os.listdir(\"/kaggle/input/convnext_model_sys_v2_epoque4/pytorch/default/1/\"))"
   ]
  },
  {
   "cell_type": "code",
   "execution_count": 11,
   "id": "75887a6c",
   "metadata": {
    "execution": {
     "iopub.execute_input": "2025-03-05T07:41:22.306500Z",
     "iopub.status.busy": "2025-03-05T07:41:22.306247Z",
     "iopub.status.idle": "2025-03-05T07:41:22.309387Z",
     "shell.execute_reply": "2025-03-05T07:41:22.308588Z"
    },
    "papermill": {
     "duration": 0.010555,
     "end_time": "2025-03-05T07:41:22.310617",
     "exception": false,
     "start_time": "2025-03-05T07:41:22.300062",
     "status": "completed"
    },
    "tags": []
   },
   "outputs": [],
   "source": [
    "# Charger le modèle sauvegardé\n",
    "#import kagglehub\n",
    "#convnext_model_sys_pytorch_default_1_path = kagglehub.model_download('/kaggle/input/convnext_model_sys/pytorch/default/1/convnext_model_SYS.pth')\n",
    "\n",
    "#model.load_state_dict(torch.load(\"/kaggle/input/convnext_model_sys_v2_epoque4/pytorch/default/1/convnext_model_SYS_V2_Epoque4.pth\"))\n",
    "#model.train()  # Remettre le modèle en mode entraînement\n"
   ]
  },
  {
   "cell_type": "code",
   "execution_count": 12,
   "id": "2069d45a",
   "metadata": {
    "execution": {
     "iopub.execute_input": "2025-03-05T07:41:22.322755Z",
     "iopub.status.busy": "2025-03-05T07:41:22.322487Z",
     "iopub.status.idle": "2025-03-05T07:41:22.665355Z",
     "shell.execute_reply": "2025-03-05T07:41:22.664603Z"
    },
    "papermill": {
     "duration": 0.350522,
     "end_time": "2025-03-05T07:41:22.666860",
     "exception": false,
     "start_time": "2025-03-05T07:41:22.316338",
     "status": "completed"
    },
    "tags": []
   },
   "outputs": [],
   "source": [
    "# Déplacer le modèle sur le GPU si disponible\n",
    "device = torch.device(\"cuda\" if torch.cuda.is_available() else \"cpu\")\n",
    "model = model.to(device)\n",
    "\n",
    "#print(model)"
   ]
  },
  {
   "cell_type": "code",
   "execution_count": 13,
   "id": "33193f09",
   "metadata": {
    "execution": {
     "iopub.execute_input": "2025-03-05T07:41:22.680621Z",
     "iopub.status.busy": "2025-03-05T07:41:22.680335Z",
     "iopub.status.idle": "2025-03-05T07:41:22.685267Z",
     "shell.execute_reply": "2025-03-05T07:41:22.684610Z"
    },
    "papermill": {
     "duration": 0.012862,
     "end_time": "2025-03-05T07:41:22.686603",
     "exception": false,
     "start_time": "2025-03-05T07:41:22.673741",
     "status": "completed"
    },
    "tags": []
   },
   "outputs": [],
   "source": [
    "#Définir la fonction de perte et l'optimiseur\n",
    "#Define lost function and optimiser\n",
    "criterion = nn.BCELoss()  # Binary Cross-Entropy Loss\n",
    "optimizer = torch.optim.AdamW(model.parameters(), lr=0.0001)"
   ]
  },
  {
   "cell_type": "code",
   "execution_count": 14,
   "id": "6d642d91",
   "metadata": {
    "execution": {
     "iopub.execute_input": "2025-03-05T07:41:22.699649Z",
     "iopub.status.busy": "2025-03-05T07:41:22.699379Z",
     "iopub.status.idle": "2025-03-05T10:10:45.245776Z",
     "shell.execute_reply": "2025-03-05T10:10:45.244757Z"
    },
    "papermill": {
     "duration": 8962.560145,
     "end_time": "2025-03-05T10:10:45.253024",
     "exception": false,
     "start_time": "2025-03-05T07:41:22.692879",
     "status": "completed"
    },
    "tags": []
   },
   "outputs": [
    {
     "name": "stdout",
     "output_type": "stream",
     "text": [
      "Époque 1, Perte entraînement : 0.0652, Perte validation : 0.0472, Exactitude validation : 98.20%\n",
      "Époque 2, Perte entraînement : 0.0316, Perte validation : 0.0462, Exactitude validation : 98.60%\n"
     ]
    }
   ],
   "source": [
    "#Entraînement du modèle\n",
    "#Fit model\n",
    "# Entraînement du modèle\n",
    "for epoch in range(2):  # Nombre d'époques\n",
    "    model.train()\n",
    "    running_loss = 0.0\n",
    "    for inputs, labels in train_loader:\n",
    "        inputs, labels = inputs.to(device), labels.to(device)\n",
    "        labels = labels.view(-1, 1)  # Adapter les dimensions des labels\n",
    "\n",
    "        # Forward pass\n",
    "        outputs = model(inputs)\n",
    "        loss = criterion(outputs, labels)\n",
    "\n",
    "        # Backward pass et optimisation\n",
    "        optimizer.zero_grad()\n",
    "        loss.backward()\n",
    "        optimizer.step()\n",
    "\n",
    "        running_loss += loss.item()\n",
    "\n",
    "    # Évaluation sur l'ensemble de validation\n",
    "    model.eval()\n",
    "    val_loss = 0.0\n",
    "    correct = 0\n",
    "    total = 0\n",
    "    with torch.no_grad():\n",
    "        for inputs, labels in val_loader:\n",
    "            inputs, labels = inputs.to(device), labels.to(device)\n",
    "            labels = labels.view(-1, 1)\n",
    "\n",
    "            outputs = model(inputs)\n",
    "            loss = criterion(outputs, labels)\n",
    "            val_loss += loss.item()\n",
    "\n",
    "            predictions = (outputs > 0.5).float()\n",
    "            correct += (predictions.view(-1) == labels.view(-1)).sum().item()\n",
    "            total += labels.size(0)\n",
    "\n",
    "    val_accuracy = 100 * correct / total\n",
    "    print(f\"Époque {epoch+1}, Perte entraînement : {running_loss/len(train_loader):.4f}, Perte validation : {val_loss/len(val_loader):.4f}, Exactitude validation : {val_accuracy:.2f}%\")\n"
   ]
  },
  {
   "cell_type": "code",
   "execution_count": 15,
   "id": "2790cf6e",
   "metadata": {
    "execution": {
     "iopub.execute_input": "2025-03-05T10:10:45.265926Z",
     "iopub.status.busy": "2025-03-05T10:10:45.265616Z",
     "iopub.status.idle": "2025-03-05T10:11:58.359843Z",
     "shell.execute_reply": "2025-03-05T10:11:58.358890Z"
    },
    "papermill": {
     "duration": 73.107418,
     "end_time": "2025-03-05T10:11:58.366462",
     "exception": false,
     "start_time": "2025-03-05T10:10:45.259044",
     "status": "completed"
    },
    "tags": []
   },
   "outputs": [
    {
     "name": "stdout",
     "output_type": "stream",
     "text": [
      "Exactitude : 97.87%\n"
     ]
    }
   ],
   "source": [
    "# Évaluation du modèle\n",
    "model.eval()\n",
    "correct = 0\n",
    "total = 0\n",
    "with torch.no_grad():\n",
    "    for inputs, labels in test_loader:\n",
    "        inputs, labels = inputs.to(device), labels.to(device)\n",
    "        outputs = model(inputs)\n",
    "        predictions = (outputs > 0.5).float()\n",
    "        correct += (predictions.view(-1) == labels).sum().item()\n",
    "        total += labels.size(0)\n",
    "\n",
    "print(f\"Exactitude : {100 * correct / total:.2f}%\")"
   ]
  },
  {
   "cell_type": "code",
   "execution_count": 16,
   "id": "afb84850",
   "metadata": {
    "execution": {
     "iopub.execute_input": "2025-03-05T10:11:58.379735Z",
     "iopub.status.busy": "2025-03-05T10:11:58.379415Z",
     "iopub.status.idle": "2025-03-05T10:11:58.833432Z",
     "shell.execute_reply": "2025-03-05T10:11:58.832741Z"
    },
    "papermill": {
     "duration": 0.462538,
     "end_time": "2025-03-05T10:11:58.835098",
     "exception": false,
     "start_time": "2025-03-05T10:11:58.372560",
     "status": "completed"
    },
    "tags": []
   },
   "outputs": [],
   "source": [
    "# Sauvegarder le modèle\n",
    "torch.save(model.state_dict(), 'convnext_SYS_Ep2_lr0001.pth')"
   ]
  },
  {
   "cell_type": "code",
   "execution_count": 17,
   "id": "87978011",
   "metadata": {
    "execution": {
     "iopub.execute_input": "2025-03-05T10:11:58.848814Z",
     "iopub.status.busy": "2025-03-05T10:11:58.848504Z",
     "iopub.status.idle": "2025-03-05T10:11:58.851331Z",
     "shell.execute_reply": "2025-03-05T10:11:58.850751Z"
    },
    "papermill": {
     "duration": 0.010926,
     "end_time": "2025-03-05T10:11:58.852404",
     "exception": false,
     "start_time": "2025-03-05T10:11:58.841478",
     "status": "completed"
    },
    "tags": []
   },
   "outputs": [],
   "source": [
    "# Charger le modèle pour l'inférence\n",
    "#model.load_state_dict(torch.load('convnext_model_SYS.pth', map_location=device))\n",
    "#model.eval()"
   ]
  },
  {
   "cell_type": "markdown",
   "id": "a41bd900",
   "metadata": {
    "papermill": {
     "duration": 0.005866,
     "end_time": "2025-03-05T10:11:58.864389",
     "exception": false,
     "start_time": "2025-03-05T10:11:58.858523",
     "status": "completed"
    },
    "tags": []
   },
   "source": [
    "**CLASSIFICATION DES IMAGES TEST NON ETIQUETEES - UNLABELED IMAGES CLASSIFICATION**"
   ]
  },
  {
   "cell_type": "code",
   "execution_count": 18,
   "id": "11d2cb5f",
   "metadata": {
    "execution": {
     "iopub.execute_input": "2025-03-05T10:11:58.877219Z",
     "iopub.status.busy": "2025-03-05T10:11:58.877005Z",
     "iopub.status.idle": "2025-03-05T10:11:58.910365Z",
     "shell.execute_reply": "2025-03-05T10:11:58.909584Z"
    },
    "papermill": {
     "duration": 0.041138,
     "end_time": "2025-03-05T10:11:58.911530",
     "exception": false,
     "start_time": "2025-03-05T10:11:58.870392",
     "status": "completed"
    },
    "tags": []
   },
   "outputs": [
    {
     "name": "stdout",
     "output_type": "stream",
     "text": [
      "0    test_data_v2/1a2d9fd3e21b4266aea1f66b30aed157.jpg\n",
      "1    test_data_v2/ab5df8f441fe4fbf9dc9c6baae699dc7.jpg\n",
      "2    test_data_v2/eb364dd2dfe34feda0e52466b7ce7956.jpg\n",
      "3    test_data_v2/f76c2580e9644d85a741a42c6f6b39c0.jpg\n",
      "4    test_data_v2/a16495c578b7494683805484ca27cf9f.jpg\n",
      "Name: id, dtype: object\n"
     ]
    }
   ],
   "source": [
    "#Préparation des données de test final\n",
    "#Final test data preparation\n",
    "test_csv_path = '/kaggle/input/ai-vs-human-generated-dataset/test.csv'\n",
    "test_csv = pd.read_csv(test_csv_path)\n",
    "id_csv = test_csv['id']\n",
    "test_csv['id'] = test_csv['id'].apply(lambda name : get_image_path(folder_path, name))\n",
    "\n",
    "#Chargement d'un Dataset léger pour tester mon code\n",
    "#Low weight dataset loding - in order to test my code before the big loading\n",
    "test_test_csv = test_csv.head(50)\n",
    "test_data_set = test_test_csv\n",
    "\n",
    "#Chargement du Dataset complet\n",
    "#Full dataset loading\n",
    "test_data_set = test_csv\n",
    "\n",
    "#Création du DataFrame de test\n",
    "#Test Dataframe creation\n",
    "df_test = pd.DataFrame(test_data_set)\n",
    "print(id_csv.head())"
   ]
  },
  {
   "cell_type": "code",
   "execution_count": 19,
   "id": "ffb1d785",
   "metadata": {
    "execution": {
     "iopub.execute_input": "2025-03-05T10:11:58.924694Z",
     "iopub.status.busy": "2025-03-05T10:11:58.924437Z",
     "iopub.status.idle": "2025-03-05T10:11:58.928630Z",
     "shell.execute_reply": "2025-03-05T10:11:58.928060Z"
    },
    "papermill": {
     "duration": 0.011983,
     "end_time": "2025-03-05T10:11:58.929861",
     "exception": false,
     "start_time": "2025-03-05T10:11:58.917878",
     "status": "completed"
    },
    "tags": []
   },
   "outputs": [],
   "source": [
    "#Création d'un DataLoader_test avec une classe\n",
    "#Dataloader own class creation\n",
    "class CustomDataset(Dataset):\n",
    "    def __init__(self, dataframe, transform=None):\n",
    "        self.dataframe = dataframe\n",
    "        self.transform = transform\n",
    "\n",
    "    def __len__(self):\n",
    "        return len(self.dataframe)\n",
    "\n",
    "    def __getitem__(self, idx):\n",
    "        img_path = self.dataframe.iloc[idx]['id']\n",
    "\n",
    "        # Charger l'image\n",
    "        # load image\n",
    "        image = Image.open(img_path).convert(\"RGB\")\n",
    "\n",
    "        # Appliquer les transformations si spécifiées\n",
    "        # Apply transformation\n",
    "        if self.transform:\n",
    "            image = self.transform(image)\n",
    "\n",
    "        return image, self.dataframe.iloc[idx]['id']\n"
   ]
  },
  {
   "cell_type": "code",
   "execution_count": 20,
   "id": "82ee76d1",
   "metadata": {
    "execution": {
     "iopub.execute_input": "2025-03-05T10:11:58.942625Z",
     "iopub.status.busy": "2025-03-05T10:11:58.942390Z",
     "iopub.status.idle": "2025-03-05T10:11:58.946153Z",
     "shell.execute_reply": "2025-03-05T10:11:58.945346Z"
    },
    "papermill": {
     "duration": 0.011307,
     "end_time": "2025-03-05T10:11:58.947272",
     "exception": false,
     "start_time": "2025-03-05T10:11:58.935965",
     "status": "completed"
    },
    "tags": []
   },
   "outputs": [],
   "source": [
    "#Création d'une instance de DataSet customisé\n",
    "#Dataset with transformation creation\n",
    "custom_dataset_test = CustomDataset(df_test, transform=transform)\n",
    "\n",
    "#Création d'un Dataloader pour itération des données\n",
    "#Dataloader for data iteration\n",
    "custom_loader_test = DataLoader(custom_dataset_test, batch_size=16, shuffle=True, num_workers=4)"
   ]
  },
  {
   "cell_type": "code",
   "execution_count": 21,
   "id": "a6b3bd33",
   "metadata": {
    "execution": {
     "iopub.execute_input": "2025-03-05T10:11:58.960131Z",
     "iopub.status.busy": "2025-03-05T10:11:58.959905Z",
     "iopub.status.idle": "2025-03-05T10:11:58.963091Z",
     "shell.execute_reply": "2025-03-05T10:11:58.962280Z"
    },
    "papermill": {
     "duration": 0.011089,
     "end_time": "2025-03-05T10:11:58.964388",
     "exception": false,
     "start_time": "2025-03-05T10:11:58.953299",
     "status": "completed"
    },
    "tags": []
   },
   "outputs": [],
   "source": [
    "# Liste pour stocker les résultats\n",
    "results = []\n",
    "id_counter = 0  # Initialisation du compteur d'ID"
   ]
  },
  {
   "cell_type": "code",
   "execution_count": 22,
   "id": "33acdd58",
   "metadata": {
    "execution": {
     "iopub.execute_input": "2025-03-05T10:11:58.977356Z",
     "iopub.status.busy": "2025-03-05T10:11:58.977149Z",
     "iopub.status.idle": "2025-03-05T10:13:11.135645Z",
     "shell.execute_reply": "2025-03-05T10:13:11.134551Z"
    },
    "papermill": {
     "duration": 72.173373,
     "end_time": "2025-03-05T10:13:11.143911",
     "exception": false,
     "start_time": "2025-03-05T10:11:58.970538",
     "status": "completed"
    },
    "tags": []
   },
   "outputs": [
    {
     "name": "stdout",
     "output_type": "stream",
     "text": [
      "Fichier CSV généré : predictions.csv\n",
      "                                                     id  label\n",
      "0     test_data_v2/1a2d9fd3e21b4266aea1f66b30aed157.jpg      0\n",
      "1     test_data_v2/ab5df8f441fe4fbf9dc9c6baae699dc7.jpg      0\n",
      "2     test_data_v2/eb364dd2dfe34feda0e52466b7ce7956.jpg      0\n",
      "3     test_data_v2/f76c2580e9644d85a741a42c6f6b39c0.jpg      0\n",
      "4     test_data_v2/a16495c578b7494683805484ca27cf9f.jpg      1\n",
      "...                                                 ...    ...\n",
      "5535  test_data_v2/483412064ff74d9d9472d606b65976d9.jpg      0\n",
      "5536  test_data_v2/c0b49ba4081a4197b422dac7c15aea7f.jpg      0\n",
      "5537  test_data_v2/01454aaedec140c0a3ca1f48028c41cf.jpg      0\n",
      "5538  test_data_v2/e9adfea8b67e4791968c4c2bdd8ec343.jpg      0\n",
      "5539  test_data_v2/ba8f4198e8d74d3394fa56c56af23442.jpg      1\n",
      "\n",
      "[5540 rows x 2 columns]\n"
     ]
    }
   ],
   "source": [
    "# Itérer sur le DataLoader et faire des prédictions\n",
    "# Prédictions sur les données non étiquetées\n",
    "model.eval()\n",
    "with torch.no_grad():\n",
    "    for i, (inputs, _) in enumerate(custom_loader_test):  # On ignore le label puisque les images sont non étiquetées\n",
    "        inputs = inputs.to(device)\n",
    "        outputs = model(inputs)\n",
    "        predictions = (outputs > 0.5).int()  # Convertir les probabilités en 0/1\n",
    "\n",
    "        # Ajouter chaque prédiction au tableau des résultats\n",
    "        for pred in predictions.cpu().numpy():\n",
    "            #results.append({'id': len(results) + 1, 'label': int(pred)})\n",
    "            results.append({'id': id_csv[id_counter], 'label': int(pred.item() if hasattr(pred, 'item') else pred)})\n",
    "            id_counter += 1  # Incrémenter le compteur\n",
    "\n",
    "\n",
    "# Convertir en DataFrame\n",
    "results_df = pd.DataFrame(results)\n",
    "\n",
    "# Sauvegarder le DataFrame en fichier CSV\n",
    "output_csv_path = \"predictions.csv\"\n",
    "#results_df.to_csv(output_csv_path, index=False, sep=';')\n",
    "results_df.to_csv(output_csv_path, index=False, sep=',')\n",
    "\n",
    "print(f\"Fichier CSV généré : {output_csv_path}\")\n",
    "print(results_df)\n"
   ]
  },
  {
   "cell_type": "code",
   "execution_count": 23,
   "id": "8a727aec",
   "metadata": {
    "execution": {
     "iopub.execute_input": "2025-03-05T10:13:11.157709Z",
     "iopub.status.busy": "2025-03-05T10:13:11.157402Z",
     "iopub.status.idle": "2025-03-05T10:13:11.163249Z",
     "shell.execute_reply": "2025-03-05T10:13:11.162556Z"
    },
    "papermill": {
     "duration": 0.014226,
     "end_time": "2025-03-05T10:13:11.164422",
     "exception": false,
     "start_time": "2025-03-05T10:13:11.150196",
     "status": "completed"
    },
    "tags": []
   },
   "outputs": [
    {
     "data": {
      "text/html": [
       "<a href='predictions.csv' target='_blank'>predictions.csv</a><br>"
      ],
      "text/plain": [
       "/kaggle/working/predictions.csv"
      ]
     },
     "execution_count": 23,
     "metadata": {},
     "output_type": "execute_result"
    }
   ],
   "source": [
    "from IPython.display import FileLink\n",
    "FileLink(\"predictions.csv\")"
   ]
  }
 ],
 "metadata": {
  "kaggle": {
   "accelerator": "gpu",
   "dataSources": [
    {
     "databundleVersionId": 10884264,
     "sourceId": 91198,
     "sourceType": "competition"
    },
    {
     "datasetId": 6412205,
     "sourceId": 10550636,
     "sourceType": "datasetVersion"
    },
    {
     "isSourceIdPinned": true,
     "modelId": 252710,
     "modelInstanceId": 230953,
     "sourceId": 269877,
     "sourceType": "modelInstanceVersion"
    },
    {
     "isSourceIdPinned": true,
     "modelId": 253828,
     "modelInstanceId": 232096,
     "sourceId": 271149,
     "sourceType": "modelInstanceVersion"
    },
    {
     "isSourceIdPinned": true,
     "modelId": 255561,
     "modelInstanceId": 233847,
     "sourceId": 273128,
     "sourceType": "modelInstanceVersion"
    }
   ],
   "dockerImageVersionId": 30839,
   "isGpuEnabled": true,
   "isInternetEnabled": true,
   "language": "python",
   "sourceType": "notebook"
  },
  "kernelspec": {
   "display_name": "Python 3",
   "language": "python",
   "name": "python3"
  },
  "language_info": {
   "codemirror_mode": {
    "name": "ipython",
    "version": 3
   },
   "file_extension": ".py",
   "mimetype": "text/x-python",
   "name": "python",
   "nbconvert_exporter": "python",
   "pygments_lexer": "ipython3",
   "version": "3.10.12"
  },
  "papermill": {
   "default_parameters": {},
   "duration": 9145.005528,
   "end_time": "2025-03-05T10:13:14.807254",
   "environment_variables": {},
   "exception": null,
   "input_path": "__notebook__.ipynb",
   "output_path": "__notebook__.ipynb",
   "parameters": {},
   "start_time": "2025-03-05T07:40:49.801726",
   "version": "2.6.0"
  }
 },
 "nbformat": 4,
 "nbformat_minor": 5
}
