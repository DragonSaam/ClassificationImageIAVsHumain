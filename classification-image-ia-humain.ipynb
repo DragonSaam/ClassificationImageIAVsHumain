{
 "cells": [
  {
   "cell_type": "code",
   "execution_count": 1,
   "id": "006c599e",
   "metadata": {
    "_cell_guid": "b1076dfc-b9ad-4769-8c92-a6c4dae69d19",
    "_uuid": "8f2839f25d086af736a60e9eeb907d3b93b6e0e5",
    "execution": {
     "iopub.execute_input": "2025-02-26T09:44:19.999325Z",
     "iopub.status.busy": "2025-02-26T09:44:19.999096Z",
     "iopub.status.idle": "2025-02-26T09:44:21.645690Z",
     "shell.execute_reply": "2025-02-26T09:44:21.644666Z"
    },
    "papermill": {
     "duration": 1.653576,
     "end_time": "2025-02-26T09:44:21.647766",
     "exception": false,
     "start_time": "2025-02-26T09:44:19.994190",
     "status": "completed"
    },
    "tags": []
   },
   "outputs": [],
   "source": [
    "# This Python 3 environment comes with many helpful analytics libraries installed\n",
    "# It is defined by the kaggle/python Docker image: https://github.com/kaggle/docker-python\n",
    "# For example, here's several helpful packages to load\n",
    "\n",
    "import numpy as np # linear algebra\n",
    "import pandas as pd # data processing, CSV file I/O (e.g. pd.read_csv)\n",
    "\n",
    "# Input data files are available in the read-only \"../input/\" directory\n",
    "# For example, running this (by clicking run or pressing Shift+Enter) will list all files under the input directory\n",
    "\n",
    "import os\n",
    "#for dirname, _, filenames in os.walk('/kaggle/input'):\n",
    "#    for filename in filenames:\n",
    "#        print(os.path.join(dirname, filename))\n",
    "\n",
    "# You can write up to 20GB to the current directory (/kaggle/working/) that gets preserved as output when you create a version using \"Save & Run All\" \n",
    "# You can also write temporary files to /kaggle/temp/, but they won't be saved outside of the current session"
   ]
  },
  {
   "cell_type": "code",
   "execution_count": 2,
   "id": "dbdd4336",
   "metadata": {
    "execution": {
     "iopub.execute_input": "2025-02-26T09:44:21.656453Z",
     "iopub.status.busy": "2025-02-26T09:44:21.656152Z",
     "iopub.status.idle": "2025-02-26T09:44:55.780878Z",
     "shell.execute_reply": "2025-02-26T09:44:55.779251Z"
    },
    "papermill": {
     "duration": 34.131462,
     "end_time": "2025-02-26T09:44:55.782860",
     "exception": false,
     "start_time": "2025-02-26T09:44:21.651398",
     "status": "completed"
    },
    "tags": []
   },
   "outputs": [],
   "source": [
    "#Import Bibliotheques - Import Library\n",
    "import torch\n",
    "import torch.nn as nn\n",
    "import torch.nn.functional as F\n",
    "from torch.utils.data import DataLoader, Dataset\n",
    "from torchvision import models, transforms\n",
    "from PIL import Image\n",
    "import pandas as pd\n",
    "from sklearn.model_selection import train_test_split"
   ]
  },
  {
   "cell_type": "code",
   "execution_count": 3,
   "id": "81f1775a",
   "metadata": {
    "execution": {
     "iopub.execute_input": "2025-02-26T09:44:55.792067Z",
     "iopub.status.busy": "2025-02-26T09:44:55.791652Z",
     "iopub.status.idle": "2025-02-26T09:44:56.026672Z",
     "shell.execute_reply": "2025-02-26T09:44:56.025414Z"
    },
    "papermill": {
     "duration": 0.241937,
     "end_time": "2025-02-26T09:44:56.028734",
     "exception": false,
     "start_time": "2025-02-26T09:44:55.786797",
     "status": "completed"
    },
    "tags": []
   },
   "outputs": [
    {
     "name": "stdout",
     "output_type": "stream",
     "text": [
      "   Unnamed: 0                                          file_name  label\n",
      "0           0  /kaggle/input/ai-vs-human-generated-dataset/tr...      1\n",
      "1           1  /kaggle/input/ai-vs-human-generated-dataset/tr...      0\n",
      "2           2  /kaggle/input/ai-vs-human-generated-dataset/tr...      1\n",
      "3           3  /kaggle/input/ai-vs-human-generated-dataset/tr...      0\n",
      "4           4  /kaggle/input/ai-vs-human-generated-dataset/tr...      1\n"
     ]
    }
   ],
   "source": [
    "#Importation des fichiers csv et création du chemin de récupération des images\n",
    "#Import CSV files and create recuperation path for images\n",
    "\n",
    "folder_path = \"/kaggle/input/ai-vs-human-generated-dataset\"\n",
    "train_csv_path = '/kaggle/input/ai-vs-human-generated-dataset/train.csv'\n",
    "train_csv = pd.read_csv(train_csv_path)\n",
    "\n",
    "def get_image_path(folder_path, image_name) :\n",
    "    return os.path.join(folder_path, image_name)\n",
    "\n",
    "#Ajout du chemin complet de l'image dans file_name\n",
    "#Add complet path of the image in the colomns file_name\n",
    "train_csv['file_name'] = train_csv['file_name'].apply(lambda name : get_image_path(folder_path, name))\n",
    "\n",
    "\n",
    "print(train_csv.head())"
   ]
  },
  {
   "cell_type": "code",
   "execution_count": 4,
   "id": "c5cf55ef",
   "metadata": {
    "execution": {
     "iopub.execute_input": "2025-02-26T09:44:56.038216Z",
     "iopub.status.busy": "2025-02-26T09:44:56.037921Z",
     "iopub.status.idle": "2025-02-26T09:44:56.054265Z",
     "shell.execute_reply": "2025-02-26T09:44:56.053157Z"
    },
    "papermill": {
     "duration": 0.023242,
     "end_time": "2025-02-26T09:44:56.056025",
     "exception": false,
     "start_time": "2025-02-26T09:44:56.032783",
     "status": "completed"
    },
    "tags": []
   },
   "outputs": [],
   "source": [
    "#Chargement d'un Dataset léger pour tester mon code\n",
    "#Low weight dataset loding - in order to test my code before the big loading\n",
    "train_test_csv = train_csv.head(1000)\n",
    "train_data_set = train_test_csv\n",
    "\n",
    "#Chargement du Dataset complet\n",
    "#Full dataset loading\n",
    "train_data_set = train_csv\n",
    "\n",
    "df = pd.DataFrame(train_data_set)\n",
    "\n",
    "#Dataset splité\n",
    "train_df, test_df = train_test_split(df, test_size=0.2, random_state=42)\n",
    "val_df, test_df = train_test_split(test_df, test_size=0.5, random_state=42)"
   ]
  },
  {
   "cell_type": "code",
   "execution_count": 5,
   "id": "b2b52905",
   "metadata": {
    "execution": {
     "iopub.execute_input": "2025-02-26T09:44:56.065195Z",
     "iopub.status.busy": "2025-02-26T09:44:56.064884Z",
     "iopub.status.idle": "2025-02-26T09:44:56.070316Z",
     "shell.execute_reply": "2025-02-26T09:44:56.069246Z"
    },
    "papermill": {
     "duration": 0.011702,
     "end_time": "2025-02-26T09:44:56.071797",
     "exception": false,
     "start_time": "2025-02-26T09:44:56.060095",
     "status": "completed"
    },
    "tags": []
   },
   "outputs": [],
   "source": [
    "# Définir des transformations\n",
    "#Define transformations\n",
    "transform = transforms.Compose([\n",
    "    transforms.Resize((224, 224)),  # Taille requise pour ConvNeXt\n",
    "    transforms.RandomHorizontalFlip(),  # Rotation aléatoire jusqu'à 15°\n",
    "    transforms.RandomRotation(15),\n",
    "    transforms.ToTensor(),       # Convertir en tenseur PyTorch\n",
    "    transforms.Normalize(mean=[0.485, 0.456, 0.406], std=[0.229, 0.224, 0.225])  # Normalisation ImageNet\n",
    "])"
   ]
  },
  {
   "cell_type": "code",
   "execution_count": 6,
   "id": "f44db3af",
   "metadata": {
    "execution": {
     "iopub.execute_input": "2025-02-26T09:44:56.081173Z",
     "iopub.status.busy": "2025-02-26T09:44:56.080756Z",
     "iopub.status.idle": "2025-02-26T09:44:56.087627Z",
     "shell.execute_reply": "2025-02-26T09:44:56.086616Z"
    },
    "papermill": {
     "duration": 0.013795,
     "end_time": "2025-02-26T09:44:56.089296",
     "exception": false,
     "start_time": "2025-02-26T09:44:56.075501",
     "status": "completed"
    },
    "tags": []
   },
   "outputs": [],
   "source": [
    "#Création d'un DataLoader avec une classe\n",
    "#Dataloader own class creation\n",
    "class CustomDataset(Dataset):\n",
    "    def __init__(self, dataframe, transform=None):\n",
    "        self.dataframe = dataframe\n",
    "        self.transform = transform\n",
    "\n",
    "    def __len__(self):\n",
    "        return len(self.dataframe)\n",
    "\n",
    "    def __getitem__(self, idx):\n",
    "        img_path = self.dataframe.iloc[idx]['file_name']\n",
    "        label = self.dataframe.iloc[idx]['label']\n",
    "\n",
    "        # Charger l'image\n",
    "        # load image\n",
    "        image = Image.open(img_path).convert(\"RGB\")\n",
    "\n",
    "        # Appliquer les transformations si spécifiées\n",
    "        # Apply transformation\n",
    "        if self.transform:\n",
    "            image = self.transform(image)\n",
    "\n",
    "        return image, torch.tensor(label, dtype=torch.float32)"
   ]
  },
  {
   "cell_type": "code",
   "execution_count": 7,
   "id": "9494d570",
   "metadata": {
    "execution": {
     "iopub.execute_input": "2025-02-26T09:44:56.099552Z",
     "iopub.status.busy": "2025-02-26T09:44:56.099280Z",
     "iopub.status.idle": "2025-02-26T09:44:56.103505Z",
     "shell.execute_reply": "2025-02-26T09:44:56.102389Z"
    },
    "papermill": {
     "duration": 0.010903,
     "end_time": "2025-02-26T09:44:56.105103",
     "exception": false,
     "start_time": "2025-02-26T09:44:56.094200",
     "status": "completed"
    },
    "tags": []
   },
   "outputs": [],
   "source": [
    "#Création d'une instance de DataSet customisé\n",
    "#Dataset with transformation creation\n",
    "\n",
    "#custom_dataset = CustomDataset(df, transform=transform)\n",
    "#Dataset splité\n",
    "train_dataset = CustomDataset(train_df, transform=transform)\n",
    "val_dataset = CustomDataset(val_df, transform=transform)\n",
    "test_dataset = CustomDataset(test_df, transform=transform)"
   ]
  },
  {
   "cell_type": "code",
   "execution_count": 8,
   "id": "21b0cc0a",
   "metadata": {
    "execution": {
     "iopub.execute_input": "2025-02-26T09:44:56.114006Z",
     "iopub.status.busy": "2025-02-26T09:44:56.113766Z",
     "iopub.status.idle": "2025-02-26T09:44:56.118423Z",
     "shell.execute_reply": "2025-02-26T09:44:56.117315Z"
    },
    "papermill": {
     "duration": 0.011227,
     "end_time": "2025-02-26T09:44:56.120251",
     "exception": false,
     "start_time": "2025-02-26T09:44:56.109024",
     "status": "completed"
    },
    "tags": []
   },
   "outputs": [],
   "source": [
    "#Création d'un Dataloader pour itération des données\n",
    "#Dataloader for data iteration\n",
    "\n",
    "#custom_loader = DataLoader(custom_dataset, batch_size=32, shuffle=True)\n",
    "#Dataset splité\n",
    "train_loader = DataLoader(train_dataset, batch_size=32, shuffle=True)\n",
    "val_loader = DataLoader(val_dataset, batch_size=32, shuffle=False)\n",
    "test_loader = DataLoader(test_dataset, batch_size=32, shuffle=False)"
   ]
  },
  {
   "cell_type": "code",
   "execution_count": 9,
   "id": "b8831310",
   "metadata": {
    "execution": {
     "iopub.execute_input": "2025-02-26T09:44:56.129483Z",
     "iopub.status.busy": "2025-02-26T09:44:56.129220Z",
     "iopub.status.idle": "2025-02-26T09:44:59.803740Z",
     "shell.execute_reply": "2025-02-26T09:44:59.802180Z"
    },
    "papermill": {
     "duration": 3.680838,
     "end_time": "2025-02-26T09:44:59.804949",
     "exception": false,
     "start_time": "2025-02-26T09:44:56.124111",
     "status": "completed"
    },
    "tags": []
   },
   "outputs": [
    {
     "name": "stderr",
     "output_type": "stream",
     "text": [
      "/usr/local/lib/python3.10/site-packages/torchvision/models/_utils.py:208: UserWarning: The parameter 'pretrained' is deprecated since 0.13 and may be removed in the future, please use 'weights' instead.\n",
      "  warnings.warn(\n",
      "/usr/local/lib/python3.10/site-packages/torchvision/models/_utils.py:223: UserWarning: Arguments other than a weight enum or `None` for 'weights' are deprecated since 0.13 and may be removed in the future. The current behavior is equivalent to passing `weights=ConvNeXt_Base_Weights.IMAGENET1K_V1`. You can also use `weights=ConvNeXt_Base_Weights.DEFAULT` to get the most up-to-date weights.\n",
      "  warnings.warn(msg)\n"
     ]
    },
    {
     "name": "stderr",
     "output_type": "stream",
     "text": [
      "Downloading: \"https://download.pytorch.org/models/convnext_base-6075fbad.pth\" to /root/.cache/torch/hub/checkpoints/convnext_base-6075fbad.pth\n"
     ]
    },
    {
     "name": "stderr",
     "output_type": "stream",
     "text": [
      "\r",
      "  0%|          | 0.00/338M [00:00<?, ?B/s]"
     ]
    },
    {
     "name": "stderr",
     "output_type": "stream",
     "text": [
      "\r",
      "  5%|▌         | 17.8M/338M [00:00<00:01, 185MB/s]"
     ]
    },
    {
     "name": "stderr",
     "output_type": "stream",
     "text": [
      "\r",
      " 11%|█▏        | 38.5M/338M [00:00<00:01, 204MB/s]"
     ]
    },
    {
     "name": "stderr",
     "output_type": "stream",
     "text": [
      "\r",
      " 17%|█▋        | 58.4M/338M [00:00<00:01, 206MB/s]"
     ]
    },
    {
     "name": "stderr",
     "output_type": "stream",
     "text": [
      "\r",
      " 23%|██▎       | 78.2M/338M [00:00<00:01, 207MB/s]"
     ]
    },
    {
     "name": "stderr",
     "output_type": "stream",
     "text": [
      "\r",
      " 29%|██▉       | 98.8M/338M [00:00<00:01, 209MB/s]"
     ]
    },
    {
     "name": "stderr",
     "output_type": "stream",
     "text": [
      "\r",
      " 35%|███▌      | 119M/338M [00:00<00:01, 212MB/s] "
     ]
    },
    {
     "name": "stderr",
     "output_type": "stream",
     "text": [
      "\r",
      " 41%|████▏     | 140M/338M [00:00<00:01, 204MB/s]"
     ]
    },
    {
     "name": "stderr",
     "output_type": "stream",
     "text": [
      "\r",
      " 47%|████▋     | 160M/338M [00:00<00:00, 207MB/s]"
     ]
    },
    {
     "name": "stderr",
     "output_type": "stream",
     "text": [
      "\r",
      " 53%|█████▎    | 181M/338M [00:00<00:00, 209MB/s]"
     ]
    },
    {
     "name": "stderr",
     "output_type": "stream",
     "text": [
      "\r",
      " 59%|█████▉    | 201M/338M [00:01<00:00, 206MB/s]"
     ]
    },
    {
     "name": "stderr",
     "output_type": "stream",
     "text": [
      "\r",
      " 65%|██████▌   | 221M/338M [00:01<00:00, 206MB/s]"
     ]
    },
    {
     "name": "stderr",
     "output_type": "stream",
     "text": [
      "\r",
      " 71%|███████▏  | 241M/338M [00:01<00:00, 209MB/s]"
     ]
    },
    {
     "name": "stderr",
     "output_type": "stream",
     "text": [
      "\r",
      " 77%|███████▋  | 262M/338M [00:01<00:00, 210MB/s]"
     ]
    },
    {
     "name": "stderr",
     "output_type": "stream",
     "text": [
      "\r",
      " 83%|████████▎ | 282M/338M [00:01<00:00, 210MB/s]"
     ]
    },
    {
     "name": "stderr",
     "output_type": "stream",
     "text": [
      "\r",
      " 89%|████████▉ | 302M/338M [00:01<00:00, 211MB/s]"
     ]
    },
    {
     "name": "stderr",
     "output_type": "stream",
     "text": [
      "\r",
      " 95%|█████████▌| 322M/338M [00:01<00:00, 209MB/s]"
     ]
    },
    {
     "name": "stderr",
     "output_type": "stream",
     "text": [
      "\r",
      "100%|██████████| 338M/338M [00:01<00:00, 206MB/s]"
     ]
    },
    {
     "name": "stderr",
     "output_type": "stream",
     "text": [
      "\n"
     ]
    }
   ],
   "source": [
    "# Charger le modèle ConvNeXt pré-entraîné\n",
    "model = models.convnext_base(pretrained=True)\n",
    "# Adapter la dernière couche pour une sortie binaire\n",
    "num_features = model.classifier[2].in_features\n",
    "model.classifier[2] = nn.Sequential(\n",
    "    nn.Linear(num_features, 1),  # Une seule sortie pour binaire\n",
    "    nn.Sigmoid()  # Activation sigmoïde pour probabilité\n",
    ")\n",
    "\n",
    "\n",
    "# Déplacer le modèle sur le GPU si disponible\n",
    "device = torch.device(\"cuda\" if torch.cuda.is_available() else \"cpu\")\n",
    "model = model.to(device)\n",
    "\n",
    "#print(model)"
   ]
  },
  {
   "cell_type": "code",
   "execution_count": 10,
   "id": "33254de2",
   "metadata": {
    "execution": {
     "iopub.execute_input": "2025-02-26T09:44:59.816293Z",
     "iopub.status.busy": "2025-02-26T09:44:59.815955Z",
     "iopub.status.idle": "2025-02-26T09:44:59.821865Z",
     "shell.execute_reply": "2025-02-26T09:44:59.820735Z"
    },
    "papermill": {
     "duration": 0.012973,
     "end_time": "2025-02-26T09:44:59.823009",
     "exception": false,
     "start_time": "2025-02-26T09:44:59.810036",
     "status": "completed"
    },
    "tags": []
   },
   "outputs": [],
   "source": [
    "#Définir la fonction de perte et l'optimiseur\n",
    "#Define lost function and optimiser\n",
    "criterion = nn.BCELoss()  # Binary Cross-Entropy Loss\n",
    "optimizer = torch.optim.AdamW(model.parameters(), lr=0.001)"
   ]
  },
  {
   "cell_type": "code",
   "execution_count": 11,
   "id": "83182526",
   "metadata": {
    "execution": {
     "iopub.execute_input": "2025-02-26T09:44:59.833763Z",
     "iopub.status.busy": "2025-02-26T09:44:59.833479Z",
     "iopub.status.idle": "2025-02-26T13:36:09.302576Z",
     "shell.execute_reply": "2025-02-26T13:36:09.301416Z"
    },
    "papermill": {
     "duration": 13869.483253,
     "end_time": "2025-02-26T13:36:09.311028",
     "exception": false,
     "start_time": "2025-02-26T09:44:59.827775",
     "status": "completed"
    },
    "tags": []
   },
   "outputs": [
    {
     "name": "stdout",
     "output_type": "stream",
     "text": [
      "Époque 1, Perte entraînement : 0.2762, Perte validation : 0.1859, Exactitude validation : 92.81%\n"
     ]
    },
    {
     "name": "stdout",
     "output_type": "stream",
     "text": [
      "Époque 2, Perte entraînement : 0.1800, Perte validation : 0.1440, Exactitude validation : 94.35%\n"
     ]
    }
   ],
   "source": [
    "#Entraînement du modèle 1\n",
    "#Fit model 1\n",
    "# Entraînement du modèle\n",
    "for epoch in range(2):  # Nombre d'époques\n",
    "    model.train()\n",
    "    running_loss = 0.0\n",
    "    for inputs, labels in train_loader:\n",
    "        inputs, labels = inputs.to(device), labels.to(device)\n",
    "        labels = labels.view(-1, 1)  # Adapter les dimensions des labels\n",
    "\n",
    "        # Forward pass\n",
    "        outputs = model(inputs)\n",
    "        loss = criterion(outputs, labels)\n",
    "\n",
    "        # Backward pass et optimisation\n",
    "        optimizer.zero_grad()\n",
    "        loss.backward()\n",
    "        optimizer.step()\n",
    "\n",
    "        running_loss += loss.item()\n",
    "\n",
    "    # Évaluation sur l'ensemble de validation\n",
    "    model.eval()\n",
    "    val_loss = 0.0\n",
    "    correct = 0\n",
    "    total = 0\n",
    "    with torch.no_grad():\n",
    "        for inputs, labels in val_loader:\n",
    "            inputs, labels = inputs.to(device), labels.to(device)\n",
    "            labels = labels.view(-1, 1)\n",
    "\n",
    "            outputs = model(inputs)\n",
    "            loss = criterion(outputs, labels)\n",
    "            val_loss += loss.item()\n",
    "\n",
    "            predictions = (outputs > 0.5).float()\n",
    "            correct += (predictions.view(-1) == labels.view(-1)).sum().item()\n",
    "            total += labels.size(0)\n",
    "\n",
    "    val_accuracy = 100 * correct / total\n",
    "    print(f\"Époque {epoch+1}, Perte entraînement : {running_loss/len(train_loader):.4f}, Perte validation : {val_loss/len(val_loader):.4f}, Exactitude validation : {val_accuracy:.2f}%\")\n"
   ]
  },
  {
   "cell_type": "code",
   "execution_count": 12,
   "id": "2074c3d5",
   "metadata": {
    "execution": {
     "iopub.execute_input": "2025-02-26T13:36:09.324420Z",
     "iopub.status.busy": "2025-02-26T13:36:09.324082Z",
     "iopub.status.idle": "2025-02-26T13:40:48.226663Z",
     "shell.execute_reply": "2025-02-26T13:40:48.224449Z"
    },
    "papermill": {
     "duration": 278.91636,
     "end_time": "2025-02-26T13:40:48.234042",
     "exception": false,
     "start_time": "2025-02-26T13:36:09.317682",
     "status": "completed"
    },
    "tags": []
   },
   "outputs": [
    {
     "name": "stdout",
     "output_type": "stream",
     "text": [
      "Exactitude : 94.83%\n"
     ]
    }
   ],
   "source": [
    "# Évaluation du modèle\n",
    "model.eval()\n",
    "correct = 0\n",
    "total = 0\n",
    "with torch.no_grad():\n",
    "    for inputs, labels in test_loader:\n",
    "        inputs, labels = inputs.to(device), labels.to(device)\n",
    "        outputs = model(inputs)\n",
    "        predictions = (outputs > 0.5).float()\n",
    "        correct += (predictions.view(-1) == labels).sum().item()\n",
    "        total += labels.size(0)\n",
    "\n",
    "print(f\"Exactitude : {100 * correct / total:.2f}%\")"
   ]
  },
  {
   "cell_type": "code",
   "execution_count": 13,
   "id": "22710441",
   "metadata": {
    "execution": {
     "iopub.execute_input": "2025-02-26T13:40:48.247694Z",
     "iopub.status.busy": "2025-02-26T13:40:48.247404Z",
     "iopub.status.idle": "2025-02-26T13:40:48.758348Z",
     "shell.execute_reply": "2025-02-26T13:40:48.757151Z"
    },
    "papermill": {
     "duration": 0.520003,
     "end_time": "2025-02-26T13:40:48.760710",
     "exception": false,
     "start_time": "2025-02-26T13:40:48.240707",
     "status": "completed"
    },
    "tags": []
   },
   "outputs": [],
   "source": [
    "# Sauvegarder le modèle\n",
    "torch.save(model.state_dict(), 'convnext_model_SYS.pth')"
   ]
  },
  {
   "cell_type": "code",
   "execution_count": 14,
   "id": "ad5af3aa",
   "metadata": {
    "execution": {
     "iopub.execute_input": "2025-02-26T13:40:48.773229Z",
     "iopub.status.busy": "2025-02-26T13:40:48.772988Z",
     "iopub.status.idle": "2025-02-26T13:40:48.776382Z",
     "shell.execute_reply": "2025-02-26T13:40:48.775350Z"
    },
    "papermill": {
     "duration": 0.011868,
     "end_time": "2025-02-26T13:40:48.777999",
     "exception": false,
     "start_time": "2025-02-26T13:40:48.766131",
     "status": "completed"
    },
    "tags": []
   },
   "outputs": [],
   "source": [
    "# Charger le modèle pour l'inférence\n",
    "#model.load_state_dict(torch.load('convnext_model_SYS.pth', map_location=device))\n",
    "#model.eval()"
   ]
  },
  {
   "cell_type": "markdown",
   "id": "9ded1f06",
   "metadata": {
    "papermill": {
     "duration": 0.005036,
     "end_time": "2025-02-26T13:40:48.787966",
     "exception": false,
     "start_time": "2025-02-26T13:40:48.782930",
     "status": "completed"
    },
    "tags": []
   },
   "source": [
    "**CLASSIFICATION DES IMAGES TEST NON ETIQUETEES - UNLABELED IMAGES CLASSIFICATION**"
   ]
  },
  {
   "cell_type": "code",
   "execution_count": 15,
   "id": "9910ee43",
   "metadata": {
    "execution": {
     "iopub.execute_input": "2025-02-26T13:40:48.799204Z",
     "iopub.status.busy": "2025-02-26T13:40:48.798961Z",
     "iopub.status.idle": "2025-02-26T13:40:48.830244Z",
     "shell.execute_reply": "2025-02-26T13:40:48.829271Z"
    },
    "papermill": {
     "duration": 0.039227,
     "end_time": "2025-02-26T13:40:48.832130",
     "exception": false,
     "start_time": "2025-02-26T13:40:48.792903",
     "status": "completed"
    },
    "tags": []
   },
   "outputs": [
    {
     "name": "stdout",
     "output_type": "stream",
     "text": [
      "0    test_data_v2/1a2d9fd3e21b4266aea1f66b30aed157.jpg\n",
      "1    test_data_v2/ab5df8f441fe4fbf9dc9c6baae699dc7.jpg\n",
      "2    test_data_v2/eb364dd2dfe34feda0e52466b7ce7956.jpg\n",
      "3    test_data_v2/f76c2580e9644d85a741a42c6f6b39c0.jpg\n",
      "4    test_data_v2/a16495c578b7494683805484ca27cf9f.jpg\n",
      "Name: id, dtype: object\n"
     ]
    }
   ],
   "source": [
    "#Préparation des données de test final\n",
    "#Final test data preparation\n",
    "test_csv_path = '/kaggle/input/ai-vs-human-generated-dataset/test.csv'\n",
    "test_csv = pd.read_csv(test_csv_path)\n",
    "id_csv = test_csv['id']\n",
    "test_csv['id'] = test_csv['id'].apply(lambda name : get_image_path(folder_path, name))\n",
    "\n",
    "#Chargement d'un Dataset léger pour tester mon code\n",
    "#Low weight dataset loding - in order to test my code before the big loading\n",
    "test_test_csv = test_csv.head(50)\n",
    "test_data_set = test_test_csv\n",
    "\n",
    "#Chargement du Dataset complet\n",
    "#Full dataset loading\n",
    "test_data_set = test_csv\n",
    "\n",
    "#Création du DataFrame de test\n",
    "#Test Dataframe creation\n",
    "df_test = pd.DataFrame(test_data_set)\n",
    "print(id_csv.head())"
   ]
  },
  {
   "cell_type": "code",
   "execution_count": 16,
   "id": "ba656061",
   "metadata": {
    "execution": {
     "iopub.execute_input": "2025-02-26T13:40:48.844237Z",
     "iopub.status.busy": "2025-02-26T13:40:48.844015Z",
     "iopub.status.idle": "2025-02-26T13:40:48.849028Z",
     "shell.execute_reply": "2025-02-26T13:40:48.848163Z"
    },
    "papermill": {
     "duration": 0.013654,
     "end_time": "2025-02-26T13:40:48.850838",
     "exception": false,
     "start_time": "2025-02-26T13:40:48.837184",
     "status": "completed"
    },
    "tags": []
   },
   "outputs": [],
   "source": [
    "#Création d'un DataLoader_test avec une classe\n",
    "#Dataloader own class creation\n",
    "class CustomDataset(Dataset):\n",
    "    def __init__(self, dataframe, transform=None):\n",
    "        self.dataframe = dataframe\n",
    "        self.transform = transform\n",
    "\n",
    "    def __len__(self):\n",
    "        return len(self.dataframe)\n",
    "\n",
    "    def __getitem__(self, idx):\n",
    "        img_path = self.dataframe.iloc[idx]['id']\n",
    "\n",
    "        # Charger l'image\n",
    "        # load image\n",
    "        image = Image.open(img_path).convert(\"RGB\")\n",
    "\n",
    "        # Appliquer les transformations si spécifiées\n",
    "        # Apply transformation\n",
    "        if self.transform:\n",
    "            image = self.transform(image)\n",
    "\n",
    "        return image, self.dataframe.iloc[idx]['id']\n"
   ]
  },
  {
   "cell_type": "code",
   "execution_count": 17,
   "id": "2fcdc3ae",
   "metadata": {
    "execution": {
     "iopub.execute_input": "2025-02-26T13:40:48.862520Z",
     "iopub.status.busy": "2025-02-26T13:40:48.862292Z",
     "iopub.status.idle": "2025-02-26T13:40:48.866373Z",
     "shell.execute_reply": "2025-02-26T13:40:48.865436Z"
    },
    "papermill": {
     "duration": 0.012296,
     "end_time": "2025-02-26T13:40:48.868028",
     "exception": false,
     "start_time": "2025-02-26T13:40:48.855732",
     "status": "completed"
    },
    "tags": []
   },
   "outputs": [],
   "source": [
    "#Création d'une instance de DataSet customisé\n",
    "#Dataset with transformation creation\n",
    "custom_dataset_test = CustomDataset(df_test, transform=transform)\n",
    "\n",
    "#Création d'un Dataloader pour itération des données\n",
    "#Dataloader for data iteration\n",
    "custom_loader_test = DataLoader(custom_dataset_test, batch_size=32, shuffle=True, num_workers=4)"
   ]
  },
  {
   "cell_type": "code",
   "execution_count": 18,
   "id": "c3529474",
   "metadata": {
    "execution": {
     "iopub.execute_input": "2025-02-26T13:40:48.879460Z",
     "iopub.status.busy": "2025-02-26T13:40:48.879198Z",
     "iopub.status.idle": "2025-02-26T13:40:48.882503Z",
     "shell.execute_reply": "2025-02-26T13:40:48.881602Z"
    },
    "papermill": {
     "duration": 0.010822,
     "end_time": "2025-02-26T13:40:48.883856",
     "exception": false,
     "start_time": "2025-02-26T13:40:48.873034",
     "status": "completed"
    },
    "tags": []
   },
   "outputs": [],
   "source": [
    "# Liste pour stocker les résultats\n",
    "results = []\n",
    "id_counter = 0  # Initialisation du compteur d'ID"
   ]
  },
  {
   "cell_type": "code",
   "execution_count": 19,
   "id": "06a443e4",
   "metadata": {
    "execution": {
     "iopub.execute_input": "2025-02-26T13:40:48.895556Z",
     "iopub.status.busy": "2025-02-26T13:40:48.895327Z",
     "iopub.status.idle": "2025-02-26T13:42:41.222347Z",
     "shell.execute_reply": "2025-02-26T13:42:41.220854Z"
    },
    "papermill": {
     "duration": 112.339775,
     "end_time": "2025-02-26T13:42:41.228848",
     "exception": false,
     "start_time": "2025-02-26T13:40:48.889073",
     "status": "completed"
    },
    "tags": []
   },
   "outputs": [
    {
     "name": "stdout",
     "output_type": "stream",
     "text": [
      "Fichier CSV généré : predictions.csv\n",
      "                                                     id  label\n",
      "0     test_data_v2/1a2d9fd3e21b4266aea1f66b30aed157.jpg      0\n",
      "1     test_data_v2/ab5df8f441fe4fbf9dc9c6baae699dc7.jpg      0\n",
      "2     test_data_v2/eb364dd2dfe34feda0e52466b7ce7956.jpg      0\n",
      "3     test_data_v2/f76c2580e9644d85a741a42c6f6b39c0.jpg      0\n",
      "4     test_data_v2/a16495c578b7494683805484ca27cf9f.jpg      1\n",
      "...                                                 ...    ...\n",
      "5535  test_data_v2/483412064ff74d9d9472d606b65976d9.jpg      0\n",
      "5536  test_data_v2/c0b49ba4081a4197b422dac7c15aea7f.jpg      0\n",
      "5537  test_data_v2/01454aaedec140c0a3ca1f48028c41cf.jpg      0\n",
      "5538  test_data_v2/e9adfea8b67e4791968c4c2bdd8ec343.jpg      0\n",
      "5539  test_data_v2/ba8f4198e8d74d3394fa56c56af23442.jpg      0\n",
      "\n",
      "[5540 rows x 2 columns]\n"
     ]
    }
   ],
   "source": [
    "# Itérer sur le DataLoader et faire des prédictions\n",
    "# Prédictions sur les données non étiquetées\n",
    "model.eval()\n",
    "with torch.no_grad():\n",
    "    for i, (inputs, _) in enumerate(custom_loader_test):  # On ignore le label puisque les images sont non étiquetées\n",
    "        inputs = inputs.to(device)\n",
    "        outputs = model(inputs)\n",
    "        predictions = (outputs > 0.5).int()  # Convertir les probabilités en 0/1\n",
    "\n",
    "        # Ajouter chaque prédiction au tableau des résultats\n",
    "        for pred in predictions.cpu().numpy():\n",
    "            #results.append({'id': len(results) + 1, 'label': int(pred)})\n",
    "            results.append({'id': id_csv[id_counter], 'label': int(pred.item() if hasattr(pred, 'item') else pred)})\n",
    "            id_counter += 1  # Incrémenter le compteur\n",
    "\n",
    "\n",
    "# Convertir en DataFrame\n",
    "results_df = pd.DataFrame(results)\n",
    "\n",
    "# Sauvegarder le DataFrame en fichier CSV\n",
    "output_csv_path = \"predictions.csv\"\n",
    "#results_df.to_csv(output_csv_path, index=False, sep=';')\n",
    "results_df.to_csv(output_csv_path, index=False, sep=',')\n",
    "\n",
    "print(f\"Fichier CSV généré : {output_csv_path}\")\n",
    "print(results_df)\n"
   ]
  },
  {
   "cell_type": "code",
   "execution_count": 20,
   "id": "47207d39",
   "metadata": {
    "execution": {
     "iopub.execute_input": "2025-02-26T13:42:41.242637Z",
     "iopub.status.busy": "2025-02-26T13:42:41.242300Z",
     "iopub.status.idle": "2025-02-26T13:42:41.251552Z",
     "shell.execute_reply": "2025-02-26T13:42:41.250396Z"
    },
    "papermill": {
     "duration": 0.018785,
     "end_time": "2025-02-26T13:42:41.253250",
     "exception": false,
     "start_time": "2025-02-26T13:42:41.234465",
     "status": "completed"
    },
    "tags": []
   },
   "outputs": [
    {
     "data": {
      "text/html": [
       "<a href='predictions.csv' target='_blank'>predictions.csv</a><br>"
      ],
      "text/plain": [
       "/kaggle/working/predictions.csv"
      ]
     },
     "execution_count": 20,
     "metadata": {},
     "output_type": "execute_result"
    }
   ],
   "source": [
    "from IPython.display import FileLink\n",
    "FileLink(output_csv_path)"
   ]
  }
 ],
 "metadata": {
  "kaggle": {
   "accelerator": "tpu1vmV38",
   "dataSources": [
    {
     "databundleVersionId": 10884264,
     "sourceId": 91198,
     "sourceType": "competition"
    },
    {
     "datasetId": 6412205,
     "sourceId": 10550636,
     "sourceType": "datasetVersion"
    }
   ],
   "dockerImageVersionId": 30839,
   "isGpuEnabled": false,
   "isInternetEnabled": true,
   "language": "python",
   "sourceType": "notebook"
  },
  "kernelspec": {
   "display_name": "Python 3",
   "language": "python",
   "name": "python3"
  },
  "language_info": {
   "codemirror_mode": {
    "name": "ipython",
    "version": 3
   },
   "file_extension": ".py",
   "mimetype": "text/x-python",
   "name": "python",
   "nbconvert_exporter": "python",
   "pygments_lexer": "ipython3",
   "version": "3.10.16"
  },
  "papermill": {
   "default_parameters": {},
   "duration": 14307.03705,
   "end_time": "2025-02-26T13:42:44.032328",
   "environment_variables": {},
   "exception": null,
   "input_path": "__notebook__.ipynb",
   "output_path": "__notebook__.ipynb",
   "parameters": {},
   "start_time": "2025-02-26T09:44:16.995278",
   "version": "2.6.0"
  }
 },
 "nbformat": 4,
 "nbformat_minor": 5
}
