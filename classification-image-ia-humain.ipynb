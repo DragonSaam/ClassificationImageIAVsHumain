{
 "cells": [
  {
   "cell_type": "code",
   "execution_count": 1,
   "id": "f834eb34",
   "metadata": {
    "_cell_guid": "b1076dfc-b9ad-4769-8c92-a6c4dae69d19",
    "_uuid": "8f2839f25d086af736a60e9eeb907d3b93b6e0e5",
    "execution": {
     "iopub.execute_input": "2025-02-26T09:18:08.894095Z",
     "iopub.status.busy": "2025-02-26T09:18:08.893795Z",
     "iopub.status.idle": "2025-02-26T09:18:10.702157Z",
     "shell.execute_reply": "2025-02-26T09:18:10.701290Z"
    },
    "papermill": {
     "duration": 1.815832,
     "end_time": "2025-02-26T09:18:10.704198",
     "exception": false,
     "start_time": "2025-02-26T09:18:08.888366",
     "status": "completed"
    },
    "tags": []
   },
   "outputs": [],
   "source": [
    "# This Python 3 environment comes with many helpful analytics libraries installed\n",
    "# It is defined by the kaggle/python Docker image: https://github.com/kaggle/docker-python\n",
    "# For example, here's several helpful packages to load\n",
    "\n",
    "import numpy as np # linear algebra\n",
    "import pandas as pd # data processing, CSV file I/O (e.g. pd.read_csv)\n",
    "\n",
    "# Input data files are available in the read-only \"../input/\" directory\n",
    "# For example, running this (by clicking run or pressing Shift+Enter) will list all files under the input directory\n",
    "\n",
    "import os\n",
    "#for dirname, _, filenames in os.walk('/kaggle/input'):\n",
    "#    for filename in filenames:\n",
    "#        print(os.path.join(dirname, filename))\n",
    "\n",
    "# You can write up to 20GB to the current directory (/kaggle/working/) that gets preserved as output when you create a version using \"Save & Run All\" \n",
    "# You can also write temporary files to /kaggle/temp/, but they won't be saved outside of the current session"
   ]
  },
  {
   "cell_type": "code",
   "execution_count": 2,
   "id": "b70bf1e7",
   "metadata": {
    "execution": {
     "iopub.execute_input": "2025-02-26T09:18:10.712617Z",
     "iopub.status.busy": "2025-02-26T09:18:10.712330Z",
     "iopub.status.idle": "2025-02-26T09:18:47.353073Z",
     "shell.execute_reply": "2025-02-26T09:18:47.352236Z"
    },
    "papermill": {
     "duration": 36.647862,
     "end_time": "2025-02-26T09:18:47.355474",
     "exception": false,
     "start_time": "2025-02-26T09:18:10.707612",
     "status": "completed"
    },
    "tags": []
   },
   "outputs": [],
   "source": [
    "#Import Bibliotheques - Import Library\n",
    "import torch\n",
    "import torch.nn as nn\n",
    "import torch.nn.functional as F\n",
    "from torch.utils.data import DataLoader, Dataset\n",
    "from torchvision import models, transforms\n",
    "from PIL import Image\n",
    "import pandas as pd\n",
    "from sklearn.model_selection import train_test_split"
   ]
  },
  {
   "cell_type": "code",
   "execution_count": 3,
   "id": "4f465198",
   "metadata": {
    "execution": {
     "iopub.execute_input": "2025-02-26T09:18:47.363829Z",
     "iopub.status.busy": "2025-02-26T09:18:47.363449Z",
     "iopub.status.idle": "2025-02-26T09:18:47.598043Z",
     "shell.execute_reply": "2025-02-26T09:18:47.596944Z"
    },
    "papermill": {
     "duration": 0.240535,
     "end_time": "2025-02-26T09:18:47.599485",
     "exception": false,
     "start_time": "2025-02-26T09:18:47.358950",
     "status": "completed"
    },
    "tags": []
   },
   "outputs": [
    {
     "name": "stdout",
     "output_type": "stream",
     "text": [
      "   Unnamed: 0                                          file_name  label\n",
      "0           0  /kaggle/input/ai-vs-human-generated-dataset/tr...      1\n",
      "1           1  /kaggle/input/ai-vs-human-generated-dataset/tr...      0\n",
      "2           2  /kaggle/input/ai-vs-human-generated-dataset/tr...      1\n",
      "3           3  /kaggle/input/ai-vs-human-generated-dataset/tr...      0\n",
      "4           4  /kaggle/input/ai-vs-human-generated-dataset/tr...      1\n"
     ]
    }
   ],
   "source": [
    "#Importation des fichiers csv et création du chemin de récupération des images\n",
    "#Import CSV files and create recuperation path for images\n",
    "\n",
    "folder_path = \"/kaggle/input/ai-vs-human-generated-dataset\"\n",
    "train_csv_path = '/kaggle/input/ai-vs-human-generated-dataset/train.csv'\n",
    "train_csv = pd.read_csv(train_csv_path)\n",
    "\n",
    "def get_image_path(folder_path, image_name) :\n",
    "    return os.path.join(folder_path, image_name)\n",
    "\n",
    "#Ajout du chemin complet de l'image dans file_name\n",
    "#Add complet path of the image in the colomns file_name\n",
    "train_csv['file_name'] = train_csv['file_name'].apply(lambda name : get_image_path(folder_path, name))\n",
    "\n",
    "\n",
    "print(train_csv.head())"
   ]
  },
  {
   "cell_type": "code",
   "execution_count": 4,
   "id": "c7ec0930",
   "metadata": {
    "execution": {
     "iopub.execute_input": "2025-02-26T09:18:47.608033Z",
     "iopub.status.busy": "2025-02-26T09:18:47.607804Z",
     "iopub.status.idle": "2025-02-26T09:18:47.614893Z",
     "shell.execute_reply": "2025-02-26T09:18:47.613612Z"
    },
    "papermill": {
     "duration": 0.012825,
     "end_time": "2025-02-26T09:18:47.615843",
     "exception": false,
     "start_time": "2025-02-26T09:18:47.603018",
     "status": "completed"
    },
    "tags": []
   },
   "outputs": [],
   "source": [
    "#Chargement d'un Dataset léger pour tester mon code\n",
    "#Low weight dataset loding - in order to test my code before the big loading\n",
    "train_test_csv = train_csv.head(1000)\n",
    "train_data_set = train_test_csv\n",
    "\n",
    "#Chargement du Dataset complet\n",
    "#Full dataset loading\n",
    "#train_data_set = train_csv\n",
    "\n",
    "df = pd.DataFrame(train_data_set)\n",
    "\n",
    "#Dataset splité\n",
    "train_df, test_df = train_test_split(df, test_size=0.2, random_state=42)\n",
    "val_df, test_df = train_test_split(test_df, test_size=0.5, random_state=42)"
   ]
  },
  {
   "cell_type": "code",
   "execution_count": 5,
   "id": "a162eecd",
   "metadata": {
    "execution": {
     "iopub.execute_input": "2025-02-26T09:18:47.624180Z",
     "iopub.status.busy": "2025-02-26T09:18:47.623927Z",
     "iopub.status.idle": "2025-02-26T09:18:47.628251Z",
     "shell.execute_reply": "2025-02-26T09:18:47.627412Z"
    },
    "papermill": {
     "duration": 0.010186,
     "end_time": "2025-02-26T09:18:47.629677",
     "exception": false,
     "start_time": "2025-02-26T09:18:47.619491",
     "status": "completed"
    },
    "tags": []
   },
   "outputs": [],
   "source": [
    "# Définir des transformations\n",
    "#Define transformations\n",
    "transform = transforms.Compose([\n",
    "    transforms.Resize((224, 224)),  # Taille requise pour ConvNeXt\n",
    "    transforms.RandomHorizontalFlip(),  # Rotation aléatoire jusqu'à 15°\n",
    "    transforms.RandomRotation(15),\n",
    "    transforms.ToTensor(),       # Convertir en tenseur PyTorch\n",
    "    transforms.Normalize(mean=[0.485, 0.456, 0.406], std=[0.229, 0.224, 0.225])  # Normalisation ImageNet\n",
    "])"
   ]
  },
  {
   "cell_type": "code",
   "execution_count": 6,
   "id": "47a7ebf2",
   "metadata": {
    "execution": {
     "iopub.execute_input": "2025-02-26T09:18:47.638061Z",
     "iopub.status.busy": "2025-02-26T09:18:47.637862Z",
     "iopub.status.idle": "2025-02-26T09:18:47.643190Z",
     "shell.execute_reply": "2025-02-26T09:18:47.642080Z"
    },
    "papermill": {
     "duration": 0.011557,
     "end_time": "2025-02-26T09:18:47.644503",
     "exception": false,
     "start_time": "2025-02-26T09:18:47.632946",
     "status": "completed"
    },
    "tags": []
   },
   "outputs": [],
   "source": [
    "#Création d'un DataLoader avec une classe\n",
    "#Dataloader own class creation\n",
    "class CustomDataset(Dataset):\n",
    "    def __init__(self, dataframe, transform=None):\n",
    "        self.dataframe = dataframe\n",
    "        self.transform = transform\n",
    "\n",
    "    def __len__(self):\n",
    "        return len(self.dataframe)\n",
    "\n",
    "    def __getitem__(self, idx):\n",
    "        img_path = self.dataframe.iloc[idx]['file_name']\n",
    "        label = self.dataframe.iloc[idx]['label']\n",
    "\n",
    "        # Charger l'image\n",
    "        # load image\n",
    "        image = Image.open(img_path).convert(\"RGB\")\n",
    "\n",
    "        # Appliquer les transformations si spécifiées\n",
    "        # Apply transformation\n",
    "        if self.transform:\n",
    "            image = self.transform(image)\n",
    "\n",
    "        return image, torch.tensor(label, dtype=torch.float32)"
   ]
  },
  {
   "cell_type": "code",
   "execution_count": 7,
   "id": "a05e8d07",
   "metadata": {
    "execution": {
     "iopub.execute_input": "2025-02-26T09:18:47.653485Z",
     "iopub.status.busy": "2025-02-26T09:18:47.653252Z",
     "iopub.status.idle": "2025-02-26T09:18:47.657025Z",
     "shell.execute_reply": "2025-02-26T09:18:47.656084Z"
    },
    "papermill": {
     "duration": 0.00941,
     "end_time": "2025-02-26T09:18:47.658196",
     "exception": false,
     "start_time": "2025-02-26T09:18:47.648786",
     "status": "completed"
    },
    "tags": []
   },
   "outputs": [],
   "source": [
    "#Création d'une instance de DataSet customisé\n",
    "#Dataset with transformation creation\n",
    "\n",
    "#custom_dataset = CustomDataset(df, transform=transform)\n",
    "#Dataset splité\n",
    "train_dataset = CustomDataset(train_df, transform=transform)\n",
    "val_dataset = CustomDataset(val_df, transform=transform)\n",
    "test_dataset = CustomDataset(test_df, transform=transform)"
   ]
  },
  {
   "cell_type": "code",
   "execution_count": 8,
   "id": "4b4bc1c1",
   "metadata": {
    "execution": {
     "iopub.execute_input": "2025-02-26T09:18:47.666526Z",
     "iopub.status.busy": "2025-02-26T09:18:47.666325Z",
     "iopub.status.idle": "2025-02-26T09:18:47.670430Z",
     "shell.execute_reply": "2025-02-26T09:18:47.669292Z"
    },
    "papermill": {
     "duration": 0.009727,
     "end_time": "2025-02-26T09:18:47.671254",
     "exception": false,
     "start_time": "2025-02-26T09:18:47.661527",
     "status": "completed"
    },
    "tags": []
   },
   "outputs": [],
   "source": [
    "#Création d'un Dataloader pour itération des données\n",
    "#Dataloader for data iteration\n",
    "\n",
    "#custom_loader = DataLoader(custom_dataset, batch_size=32, shuffle=True)\n",
    "#Dataset splité\n",
    "train_loader = DataLoader(train_dataset, batch_size=32, shuffle=True)\n",
    "val_loader = DataLoader(val_dataset, batch_size=32, shuffle=False)\n",
    "test_loader = DataLoader(test_dataset, batch_size=32, shuffle=False)"
   ]
  },
  {
   "cell_type": "code",
   "execution_count": 9,
   "id": "5bc9eecf",
   "metadata": {
    "execution": {
     "iopub.execute_input": "2025-02-26T09:18:47.679649Z",
     "iopub.status.busy": "2025-02-26T09:18:47.679436Z",
     "iopub.status.idle": "2025-02-26T09:18:51.342950Z",
     "shell.execute_reply": "2025-02-26T09:18:51.341756Z"
    },
    "papermill": {
     "duration": 3.669862,
     "end_time": "2025-02-26T09:18:51.344864",
     "exception": false,
     "start_time": "2025-02-26T09:18:47.675002",
     "status": "completed"
    },
    "tags": []
   },
   "outputs": [
    {
     "name": "stderr",
     "output_type": "stream",
     "text": [
      "/usr/local/lib/python3.10/site-packages/torchvision/models/_utils.py:208: UserWarning: The parameter 'pretrained' is deprecated since 0.13 and may be removed in the future, please use 'weights' instead.\n",
      "  warnings.warn(\n",
      "/usr/local/lib/python3.10/site-packages/torchvision/models/_utils.py:223: UserWarning: Arguments other than a weight enum or `None` for 'weights' are deprecated since 0.13 and may be removed in the future. The current behavior is equivalent to passing `weights=ConvNeXt_Base_Weights.IMAGENET1K_V1`. You can also use `weights=ConvNeXt_Base_Weights.DEFAULT` to get the most up-to-date weights.\n",
      "  warnings.warn(msg)\n"
     ]
    },
    {
     "name": "stderr",
     "output_type": "stream",
     "text": [
      "Downloading: \"https://download.pytorch.org/models/convnext_base-6075fbad.pth\" to /root/.cache/torch/hub/checkpoints/convnext_base-6075fbad.pth\n"
     ]
    },
    {
     "name": "stderr",
     "output_type": "stream",
     "text": [
      "\r",
      "  0%|          | 0.00/338M [00:00<?, ?B/s]"
     ]
    },
    {
     "name": "stderr",
     "output_type": "stream",
     "text": [
      "\r",
      "  2%|▏         | 8.25M/338M [00:00<00:04, 86.1MB/s]"
     ]
    },
    {
     "name": "stderr",
     "output_type": "stream",
     "text": [
      "\r",
      "  9%|▊         | 28.9M/338M [00:00<00:02, 162MB/s] "
     ]
    },
    {
     "name": "stderr",
     "output_type": "stream",
     "text": [
      "\r",
      " 15%|█▍        | 49.5M/338M [00:00<00:01, 187MB/s]"
     ]
    },
    {
     "name": "stderr",
     "output_type": "stream",
     "text": [
      "\r",
      " 21%|██        | 69.8M/338M [00:00<00:01, 197MB/s]"
     ]
    },
    {
     "name": "stderr",
     "output_type": "stream",
     "text": [
      "\r",
      " 26%|██▋       | 89.1M/338M [00:00<00:01, 199MB/s]"
     ]
    },
    {
     "name": "stderr",
     "output_type": "stream",
     "text": [
      "\r",
      " 32%|███▏      | 108M/338M [00:00<00:01, 200MB/s] "
     ]
    },
    {
     "name": "stderr",
     "output_type": "stream",
     "text": [
      "\r",
      " 38%|███▊      | 128M/338M [00:00<00:01, 202MB/s]"
     ]
    },
    {
     "name": "stderr",
     "output_type": "stream",
     "text": [
      "\r",
      " 44%|████▍     | 148M/338M [00:00<00:00, 205MB/s]"
     ]
    },
    {
     "name": "stderr",
     "output_type": "stream",
     "text": [
      "\r",
      " 50%|████▉     | 169M/338M [00:00<00:00, 208MB/s]"
     ]
    },
    {
     "name": "stderr",
     "output_type": "stream",
     "text": [
      "\r",
      " 56%|█████▌    | 189M/338M [00:01<00:00, 207MB/s]"
     ]
    },
    {
     "name": "stderr",
     "output_type": "stream",
     "text": [
      "\r",
      " 62%|██████▏   | 208M/338M [00:01<00:00, 205MB/s]"
     ]
    },
    {
     "name": "stderr",
     "output_type": "stream",
     "text": [
      "\r",
      " 67%|██████▋   | 228M/338M [00:01<00:00, 204MB/s]"
     ]
    },
    {
     "name": "stderr",
     "output_type": "stream",
     "text": [
      "\r",
      " 73%|███████▎  | 248M/338M [00:01<00:00, 205MB/s]"
     ]
    },
    {
     "name": "stderr",
     "output_type": "stream",
     "text": [
      "\r",
      " 79%|███████▉  | 268M/338M [00:01<00:00, 202MB/s]"
     ]
    },
    {
     "name": "stderr",
     "output_type": "stream",
     "text": [
      "\r",
      " 85%|████████▍ | 287M/338M [00:01<00:00, 202MB/s]"
     ]
    },
    {
     "name": "stderr",
     "output_type": "stream",
     "text": [
      "\r",
      " 91%|█████████ | 306M/338M [00:01<00:00, 200MB/s]"
     ]
    },
    {
     "name": "stderr",
     "output_type": "stream",
     "text": [
      "\r",
      " 96%|█████████▋| 326M/338M [00:01<00:00, 202MB/s]"
     ]
    },
    {
     "name": "stderr",
     "output_type": "stream",
     "text": [
      "\r",
      "100%|██████████| 338M/338M [00:01<00:00, 199MB/s]"
     ]
    },
    {
     "name": "stderr",
     "output_type": "stream",
     "text": [
      "\n"
     ]
    }
   ],
   "source": [
    "# Charger le modèle ConvNeXt pré-entraîné\n",
    "model = models.convnext_base(pretrained=True)\n",
    "# Adapter la dernière couche pour une sortie binaire\n",
    "num_features = model.classifier[2].in_features\n",
    "model.classifier[2] = nn.Sequential(\n",
    "    nn.Linear(num_features, 1),  # Une seule sortie pour binaire\n",
    "    nn.Sigmoid()  # Activation sigmoïde pour probabilité\n",
    ")\n",
    "\n",
    "\n",
    "# Déplacer le modèle sur le GPU si disponible\n",
    "device = torch.device(\"cuda\" if torch.cuda.is_available() else \"cpu\")\n",
    "model = model.to(device)\n",
    "\n",
    "#print(model)"
   ]
  },
  {
   "cell_type": "code",
   "execution_count": 10,
   "id": "fcf2b66a",
   "metadata": {
    "execution": {
     "iopub.execute_input": "2025-02-26T09:18:51.356382Z",
     "iopub.status.busy": "2025-02-26T09:18:51.356134Z",
     "iopub.status.idle": "2025-02-26T09:18:51.361449Z",
     "shell.execute_reply": "2025-02-26T09:18:51.360599Z"
    },
    "papermill": {
     "duration": 0.012962,
     "end_time": "2025-02-26T09:18:51.362871",
     "exception": false,
     "start_time": "2025-02-26T09:18:51.349909",
     "status": "completed"
    },
    "tags": []
   },
   "outputs": [],
   "source": [
    "#Définir la fonction de perte et l'optimiseur\n",
    "#Define lost function and optimiser\n",
    "criterion = nn.BCELoss()  # Binary Cross-Entropy Loss\n",
    "optimizer = torch.optim.AdamW(model.parameters(), lr=0.001)"
   ]
  },
  {
   "cell_type": "code",
   "execution_count": 11,
   "id": "d49f3b52",
   "metadata": {
    "execution": {
     "iopub.execute_input": "2025-02-26T09:18:51.373795Z",
     "iopub.status.busy": "2025-02-26T09:18:51.373532Z",
     "iopub.status.idle": "2025-02-26T09:31:54.742774Z",
     "shell.execute_reply": "2025-02-26T09:31:54.741472Z"
    },
    "papermill": {
     "duration": 783.383102,
     "end_time": "2025-02-26T09:31:54.750943",
     "exception": false,
     "start_time": "2025-02-26T09:18:51.367841",
     "status": "completed"
    },
    "tags": []
   },
   "outputs": [
    {
     "name": "stdout",
     "output_type": "stream",
     "text": [
      "Époque 1, Perte entraînement : 0.7309, Perte validation : 0.6131, Exactitude validation : 74.00%\n"
     ]
    },
    {
     "name": "stdout",
     "output_type": "stream",
     "text": [
      "Époque 2, Perte entraînement : 0.5167, Perte validation : 0.5024, Exactitude validation : 83.00%\n"
     ]
    },
    {
     "name": "stdout",
     "output_type": "stream",
     "text": [
      "Époque 3, Perte entraînement : 0.4984, Perte validation : 0.5357, Exactitude validation : 75.00%\n"
     ]
    },
    {
     "name": "stdout",
     "output_type": "stream",
     "text": [
      "Époque 4, Perte entraînement : 0.3685, Perte validation : 0.5575, Exactitude validation : 79.00%\n"
     ]
    },
    {
     "name": "stdout",
     "output_type": "stream",
     "text": [
      "Époque 5, Perte entraînement : 0.3526, Perte validation : 0.4192, Exactitude validation : 87.00%\n"
     ]
    },
    {
     "name": "stdout",
     "output_type": "stream",
     "text": [
      "Époque 6, Perte entraînement : 0.3108, Perte validation : 0.3645, Exactitude validation : 89.00%\n"
     ]
    },
    {
     "name": "stdout",
     "output_type": "stream",
     "text": [
      "Époque 7, Perte entraînement : 0.2892, Perte validation : 0.3926, Exactitude validation : 92.00%\n"
     ]
    },
    {
     "name": "stdout",
     "output_type": "stream",
     "text": [
      "Époque 8, Perte entraînement : 0.3382, Perte validation : 0.4676, Exactitude validation : 84.00%\n"
     ]
    },
    {
     "name": "stdout",
     "output_type": "stream",
     "text": [
      "Époque 9, Perte entraînement : 0.3189, Perte validation : 0.3812, Exactitude validation : 87.00%\n"
     ]
    },
    {
     "name": "stdout",
     "output_type": "stream",
     "text": [
      "Époque 10, Perte entraînement : 0.3149, Perte validation : 0.3368, Exactitude validation : 90.00%\n"
     ]
    }
   ],
   "source": [
    "#Entraînement du modèle 1\n",
    "#Fit model 1\n",
    "# Entraînement du modèle\n",
    "for epoch in range(10):  # Nombre d'époques\n",
    "    model.train()\n",
    "    running_loss = 0.0\n",
    "    for inputs, labels in train_loader:\n",
    "        inputs, labels = inputs.to(device), labels.to(device)\n",
    "        labels = labels.view(-1, 1)  # Adapter les dimensions des labels\n",
    "\n",
    "        # Forward pass\n",
    "        outputs = model(inputs)\n",
    "        loss = criterion(outputs, labels)\n",
    "\n",
    "        # Backward pass et optimisation\n",
    "        optimizer.zero_grad()\n",
    "        loss.backward()\n",
    "        optimizer.step()\n",
    "\n",
    "        running_loss += loss.item()\n",
    "\n",
    "    # Évaluation sur l'ensemble de validation\n",
    "    model.eval()\n",
    "    val_loss = 0.0\n",
    "    correct = 0\n",
    "    total = 0\n",
    "    with torch.no_grad():\n",
    "        for inputs, labels in val_loader:\n",
    "            inputs, labels = inputs.to(device), labels.to(device)\n",
    "            labels = labels.view(-1, 1)\n",
    "\n",
    "            outputs = model(inputs)\n",
    "            loss = criterion(outputs, labels)\n",
    "            val_loss += loss.item()\n",
    "\n",
    "            predictions = (outputs > 0.5).float()\n",
    "            correct += (predictions.view(-1) == labels.view(-1)).sum().item()\n",
    "            total += labels.size(0)\n",
    "\n",
    "    val_accuracy = 100 * correct / total\n",
    "    print(f\"Époque {epoch+1}, Perte entraînement : {running_loss/len(train_loader):.4f}, Perte validation : {val_loss/len(val_loader):.4f}, Exactitude validation : {val_accuracy:.2f}%\")\n"
   ]
  },
  {
   "cell_type": "code",
   "execution_count": 12,
   "id": "9a299c4e",
   "metadata": {
    "execution": {
     "iopub.execute_input": "2025-02-26T09:31:54.765301Z",
     "iopub.status.busy": "2025-02-26T09:31:54.765039Z",
     "iopub.status.idle": "2025-02-26T09:31:58.048684Z",
     "shell.execute_reply": "2025-02-26T09:31:58.047263Z"
    },
    "papermill": {
     "duration": 3.29233,
     "end_time": "2025-02-26T09:31:58.050523",
     "exception": false,
     "start_time": "2025-02-26T09:31:54.758193",
     "status": "completed"
    },
    "tags": []
   },
   "outputs": [
    {
     "name": "stdout",
     "output_type": "stream",
     "text": [
      "Exactitude : 91.00%\n"
     ]
    }
   ],
   "source": [
    "# Évaluation du modèle\n",
    "model.eval()\n",
    "correct = 0\n",
    "total = 0\n",
    "with torch.no_grad():\n",
    "    for inputs, labels in test_loader:\n",
    "        inputs, labels = inputs.to(device), labels.to(device)\n",
    "        outputs = model(inputs)\n",
    "        predictions = (outputs > 0.5).float()\n",
    "        correct += (predictions.view(-1) == labels).sum().item()\n",
    "        total += labels.size(0)\n",
    "\n",
    "print(f\"Exactitude : {100 * correct / total:.2f}%\")"
   ]
  },
  {
   "cell_type": "code",
   "execution_count": 13,
   "id": "203bdbe8",
   "metadata": {
    "execution": {
     "iopub.execute_input": "2025-02-26T09:31:58.066572Z",
     "iopub.status.busy": "2025-02-26T09:31:58.066325Z",
     "iopub.status.idle": "2025-02-26T09:31:58.555174Z",
     "shell.execute_reply": "2025-02-26T09:31:58.554255Z"
    },
    "papermill": {
     "duration": 0.498743,
     "end_time": "2025-02-26T09:31:58.557231",
     "exception": false,
     "start_time": "2025-02-26T09:31:58.058488",
     "status": "completed"
    },
    "tags": []
   },
   "outputs": [],
   "source": [
    "# Sauvegarder le modèle\n",
    "torch.save(model.state_dict(), 'convnext_model_SYS.pth')"
   ]
  },
  {
   "cell_type": "code",
   "execution_count": 14,
   "id": "1c17edcb",
   "metadata": {
    "execution": {
     "iopub.execute_input": "2025-02-26T09:31:58.570623Z",
     "iopub.status.busy": "2025-02-26T09:31:58.570345Z",
     "iopub.status.idle": "2025-02-26T09:31:58.573368Z",
     "shell.execute_reply": "2025-02-26T09:31:58.572699Z"
    },
    "papermill": {
     "duration": 0.012459,
     "end_time": "2025-02-26T09:31:58.575702",
     "exception": false,
     "start_time": "2025-02-26T09:31:58.563243",
     "status": "completed"
    },
    "tags": []
   },
   "outputs": [],
   "source": [
    "# Charger le modèle pour l'inférence\n",
    "#model.load_state_dict(torch.load('convnext_model_SYS.pth', map_location=device))\n",
    "#model.eval()"
   ]
  },
  {
   "cell_type": "markdown",
   "id": "be68e11f",
   "metadata": {
    "papermill": {
     "duration": 0.005084,
     "end_time": "2025-02-26T09:31:58.587011",
     "exception": false,
     "start_time": "2025-02-26T09:31:58.581927",
     "status": "completed"
    },
    "tags": []
   },
   "source": [
    "**CLASSIFICATION DES IMAGES TEST NON ETIQUETEES - UNLABELED IMAGES CLASSIFICATION**"
   ]
  },
  {
   "cell_type": "code",
   "execution_count": 15,
   "id": "50a151e2",
   "metadata": {
    "execution": {
     "iopub.execute_input": "2025-02-26T09:31:58.599528Z",
     "iopub.status.busy": "2025-02-26T09:31:58.599257Z",
     "iopub.status.idle": "2025-02-26T09:31:58.626598Z",
     "shell.execute_reply": "2025-02-26T09:31:58.625698Z"
    },
    "papermill": {
     "duration": 0.03598,
     "end_time": "2025-02-26T09:31:58.628496",
     "exception": false,
     "start_time": "2025-02-26T09:31:58.592516",
     "status": "completed"
    },
    "tags": []
   },
   "outputs": [
    {
     "name": "stdout",
     "output_type": "stream",
     "text": [
      "0    test_data_v2/1a2d9fd3e21b4266aea1f66b30aed157.jpg\n",
      "1    test_data_v2/ab5df8f441fe4fbf9dc9c6baae699dc7.jpg\n",
      "2    test_data_v2/eb364dd2dfe34feda0e52466b7ce7956.jpg\n",
      "3    test_data_v2/f76c2580e9644d85a741a42c6f6b39c0.jpg\n",
      "4    test_data_v2/a16495c578b7494683805484ca27cf9f.jpg\n",
      "Name: id, dtype: object\n"
     ]
    }
   ],
   "source": [
    "#Préparation des données de test final\n",
    "#Final test data preparation\n",
    "test_csv_path = '/kaggle/input/ai-vs-human-generated-dataset/test.csv'\n",
    "test_csv = pd.read_csv(test_csv_path)\n",
    "id_csv = test_csv['id']\n",
    "test_csv['id'] = test_csv['id'].apply(lambda name : get_image_path(folder_path, name))\n",
    "\n",
    "#Chargement d'un Dataset léger pour tester mon code\n",
    "#Low weight dataset loding - in order to test my code before the big loading\n",
    "test_test_csv = test_csv.head(50)\n",
    "test_data_set = test_test_csv\n",
    "\n",
    "#Chargement du Dataset complet\n",
    "#Full dataset loading\n",
    "#test_data_set = test_csv\n",
    "\n",
    "#Création du DataFrame de test\n",
    "#Test Dataframe creation\n",
    "df_test = pd.DataFrame(test_data_set)\n",
    "print(id_csv.head())"
   ]
  },
  {
   "cell_type": "code",
   "execution_count": 16,
   "id": "e77919d7",
   "metadata": {
    "execution": {
     "iopub.execute_input": "2025-02-26T09:31:58.640869Z",
     "iopub.status.busy": "2025-02-26T09:31:58.640616Z",
     "iopub.status.idle": "2025-02-26T09:31:58.645597Z",
     "shell.execute_reply": "2025-02-26T09:31:58.644704Z"
    },
    "papermill": {
     "duration": 0.012678,
     "end_time": "2025-02-26T09:31:58.646925",
     "exception": false,
     "start_time": "2025-02-26T09:31:58.634247",
     "status": "completed"
    },
    "tags": []
   },
   "outputs": [],
   "source": [
    "#Création d'un DataLoader_test avec une classe\n",
    "#Dataloader own class creation\n",
    "class CustomDataset(Dataset):\n",
    "    def __init__(self, dataframe, transform=None):\n",
    "        self.dataframe = dataframe\n",
    "        self.transform = transform\n",
    "\n",
    "    def __len__(self):\n",
    "        return len(self.dataframe)\n",
    "\n",
    "    def __getitem__(self, idx):\n",
    "        img_path = self.dataframe.iloc[idx]['id']\n",
    "\n",
    "        # Charger l'image\n",
    "        # load image\n",
    "        image = Image.open(img_path).convert(\"RGB\")\n",
    "\n",
    "        # Appliquer les transformations si spécifiées\n",
    "        # Apply transformation\n",
    "        if self.transform:\n",
    "            image = self.transform(image)\n",
    "\n",
    "        return image, self.dataframe.iloc[idx]['id']\n"
   ]
  },
  {
   "cell_type": "code",
   "execution_count": 17,
   "id": "1926ebca",
   "metadata": {
    "execution": {
     "iopub.execute_input": "2025-02-26T09:31:58.660171Z",
     "iopub.status.busy": "2025-02-26T09:31:58.659932Z",
     "iopub.status.idle": "2025-02-26T09:31:58.664037Z",
     "shell.execute_reply": "2025-02-26T09:31:58.663112Z"
    },
    "papermill": {
     "duration": 0.012548,
     "end_time": "2025-02-26T09:31:58.665448",
     "exception": false,
     "start_time": "2025-02-26T09:31:58.652900",
     "status": "completed"
    },
    "tags": []
   },
   "outputs": [],
   "source": [
    "#Création d'une instance de DataSet customisé\n",
    "#Dataset with transformation creation\n",
    "custom_dataset_test = CustomDataset(df_test, transform=transform)\n",
    "\n",
    "#Création d'un Dataloader pour itération des données\n",
    "#Dataloader for data iteration\n",
    "custom_loader_test = DataLoader(custom_dataset_test, batch_size=32, shuffle=True, num_workers=4)"
   ]
  },
  {
   "cell_type": "code",
   "execution_count": 18,
   "id": "8eafa079",
   "metadata": {
    "execution": {
     "iopub.execute_input": "2025-02-26T09:31:58.678931Z",
     "iopub.status.busy": "2025-02-26T09:31:58.678718Z",
     "iopub.status.idle": "2025-02-26T09:31:58.682163Z",
     "shell.execute_reply": "2025-02-26T09:31:58.681154Z"
    },
    "papermill": {
     "duration": 0.01193,
     "end_time": "2025-02-26T09:31:58.683533",
     "exception": false,
     "start_time": "2025-02-26T09:31:58.671603",
     "status": "completed"
    },
    "tags": []
   },
   "outputs": [],
   "source": [
    "# Liste pour stocker les résultats\n",
    "results = []\n",
    "id_counter = 0  # Initialisation du compteur d'ID"
   ]
  },
  {
   "cell_type": "code",
   "execution_count": 19,
   "id": "fc4cd688",
   "metadata": {
    "execution": {
     "iopub.execute_input": "2025-02-26T09:31:58.697335Z",
     "iopub.status.busy": "2025-02-26T09:31:58.697115Z",
     "iopub.status.idle": "2025-02-26T09:32:04.574379Z",
     "shell.execute_reply": "2025-02-26T09:32:04.573156Z"
    },
    "papermill": {
     "duration": 5.886641,
     "end_time": "2025-02-26T09:32:04.576326",
     "exception": false,
     "start_time": "2025-02-26T09:31:58.689685",
     "status": "completed"
    },
    "tags": []
   },
   "outputs": [
    {
     "name": "stdout",
     "output_type": "stream",
     "text": [
      "Fichier CSV généré : predictions.csv\n",
      "                                                   id  label\n",
      "0   test_data_v2/1a2d9fd3e21b4266aea1f66b30aed157.jpg      0\n",
      "1   test_data_v2/ab5df8f441fe4fbf9dc9c6baae699dc7.jpg      0\n",
      "2   test_data_v2/eb364dd2dfe34feda0e52466b7ce7956.jpg      1\n",
      "3   test_data_v2/f76c2580e9644d85a741a42c6f6b39c0.jpg      0\n",
      "4   test_data_v2/a16495c578b7494683805484ca27cf9f.jpg      0\n",
      "5   test_data_v2/d08826f7ccab45c8935d8df5524b2869.jpg      0\n",
      "6   test_data_v2/8ba52123cc7b4e3aa90e3947734197e0.jpg      0\n",
      "7   test_data_v2/b107ac0040284f1aace7a6714bf152f7.jpg      0\n",
      "8   test_data_v2/601c646d626d46da8c5fac6653efcfb8.jpg      0\n",
      "9   test_data_v2/ef29ead63754441b82b56c1a22082fdf.jpg      0\n",
      "10  test_data_v2/f166b995659946e7bcaa25823890d909.jpg      0\n",
      "11  test_data_v2/bc1fe6d5527246eca53bbfec751d4020.jpg      0\n",
      "12  test_data_v2/72db1bbd6a0d46a8b72b240cacfb1794.jpg      0\n",
      "13  test_data_v2/8bb829efccb549178cae75a2c6b7780f.jpg      0\n",
      "14  test_data_v2/eb476c70a9ce427d810a265c492888d4.jpg      0\n",
      "15  test_data_v2/ae9f3fd741dd45f0ae94fce7d0b3ab6b.jpg      0\n",
      "16  test_data_v2/a42e0b2c275242feaf8618d0c74fc419.jpg      0\n",
      "17  test_data_v2/524eaa42b4324cc2a66baec78e8e6984.jpg      0\n",
      "18  test_data_v2/57e48cca910d41d4886ffb48ec992d95.jpg      0\n",
      "19  test_data_v2/f79a9aa7d7a1499ca22a1b5c1ee7ec69.jpg      0\n",
      "20  test_data_v2/d153421ac9364f59918fb6b0a481892f.jpg      0\n",
      "21  test_data_v2/3b793f97cbd24f6ab34b320ffdff8553.jpg      1\n",
      "22  test_data_v2/ed65b1d1ca1f40a6b96a2d317a350a76.jpg      0\n",
      "23  test_data_v2/f3677cbf96aa4759a224a281b7e2bae4.jpg      0\n",
      "24  test_data_v2/b7f7a867362444c5b64293dd0c46e3ed.jpg      0\n",
      "25  test_data_v2/083f811782e04ff783de076773b876de.jpg      0\n",
      "26  test_data_v2/d49743c76c1b4666bbca2f34834816d6.jpg      0\n",
      "27  test_data_v2/e7dc5cf3c30e4420b811a30a1b8545c1.jpg      0\n",
      "28  test_data_v2/48446813ae8c428e9c5920dfaea63be4.jpg      0\n",
      "29  test_data_v2/ac6c419aae844f1db13a3307c9a5d597.jpg      1\n",
      "30  test_data_v2/59927172f772471fb8e0af810e9641c8.jpg      1\n",
      "31  test_data_v2/2e0bb5de076c4f96bed192c362386c8b.jpg      0\n",
      "32  test_data_v2/908b0368b8c54935a6027f96ad540daf.jpg      0\n",
      "33  test_data_v2/9fa169d658654d389fe850654770031f.jpg      0\n",
      "34  test_data_v2/2f007b7895ff44cabd3dcb0a14d4e387.jpg      0\n",
      "35  test_data_v2/b90fdcce89244403a0ae89455d2e5b5d.jpg      0\n",
      "36  test_data_v2/b2a48418070346b4b6ed72331ed4b12f.jpg      0\n",
      "37  test_data_v2/b8bbace2b73f4e4594fae922e295d4a1.jpg      1\n",
      "38  test_data_v2/392886010ff84b7fb6549396bec30f7c.jpg      1\n",
      "39  test_data_v2/d0d490cecbf7414daa62e6e9359012cf.jpg      0\n",
      "40  test_data_v2/9b7b80e6b4fd432fa9b31374936ef121.jpg      0\n",
      "41  test_data_v2/5995fa969e904e1faf567915b015da01.jpg      0\n",
      "42  test_data_v2/c5c136d690fe4b029a4baa65d56e6d2f.jpg      0\n",
      "43  test_data_v2/4058106d54fd412aba5dcfbf000dc7b4.jpg      0\n",
      "44  test_data_v2/04c10a4acf094389a3842b1d336a13ae.jpg      0\n",
      "45  test_data_v2/a6d0ee1d95f646b2bf6afcfd52560279.jpg      0\n",
      "46  test_data_v2/9f47bc67bd4c4066aec867b8ac26b027.jpg      0\n",
      "47  test_data_v2/a314589cac7846498aa270285ca44fa6.jpg      0\n",
      "48  test_data_v2/416204a2e6c1452fb4263649f3eb3e60.jpg      0\n",
      "49  test_data_v2/921b72de0c4848e380a351bea76021ea.jpg      0\n"
     ]
    }
   ],
   "source": [
    "# Itérer sur le DataLoader et faire des prédictions\n",
    "# Prédictions sur les données non étiquetées\n",
    "model.eval()\n",
    "with torch.no_grad():\n",
    "    for i, (inputs, _) in enumerate(custom_loader_test):  # On ignore le label puisque les images sont non étiquetées\n",
    "        inputs = inputs.to(device)\n",
    "        outputs = model(inputs)\n",
    "        predictions = (outputs > 0.5).int()  # Convertir les probabilités en 0/1\n",
    "\n",
    "        # Ajouter chaque prédiction au tableau des résultats\n",
    "        for pred in predictions.cpu().numpy():\n",
    "            #results.append({'id': len(results) + 1, 'label': int(pred)})\n",
    "            results.append({'id': id_csv[id_counter], 'label': int(pred.item() if hasattr(pred, 'item') else pred)})\n",
    "            id_counter += 1  # Incrémenter le compteur\n",
    "\n",
    "\n",
    "# Convertir en DataFrame\n",
    "results_df = pd.DataFrame(results)\n",
    "\n",
    "# Sauvegarder le DataFrame en fichier CSV\n",
    "output_csv_path = \"predictions.csv\"\n",
    "#results_df.to_csv(output_csv_path, index=False, sep=';')\n",
    "results_df.to_csv(output_csv_path, index=False, sep=',')\n",
    "\n",
    "print(f\"Fichier CSV généré : {output_csv_path}\")\n",
    "print(results_df)\n"
   ]
  },
  {
   "cell_type": "code",
   "execution_count": 20,
   "id": "87e762e9",
   "metadata": {
    "execution": {
     "iopub.execute_input": "2025-02-26T09:32:04.589681Z",
     "iopub.status.busy": "2025-02-26T09:32:04.589425Z",
     "iopub.status.idle": "2025-02-26T09:32:04.597388Z",
     "shell.execute_reply": "2025-02-26T09:32:04.596497Z"
    },
    "papermill": {
     "duration": 0.016418,
     "end_time": "2025-02-26T09:32:04.598872",
     "exception": false,
     "start_time": "2025-02-26T09:32:04.582454",
     "status": "completed"
    },
    "tags": []
   },
   "outputs": [
    {
     "data": {
      "text/html": [
       "<a href='predictions.csv' target='_blank'>predictions.csv</a><br>"
      ],
      "text/plain": [
       "/kaggle/working/predictions.csv"
      ]
     },
     "execution_count": 20,
     "metadata": {},
     "output_type": "execute_result"
    }
   ],
   "source": [
    "from IPython.display import FileLink\n",
    "FileLink(output_csv_path)"
   ]
  }
 ],
 "metadata": {
  "kaggle": {
   "accelerator": "tpu1vmV38",
   "dataSources": [
    {
     "databundleVersionId": 10884264,
     "sourceId": 91198,
     "sourceType": "competition"
    },
    {
     "datasetId": 6412205,
     "sourceId": 10550636,
     "sourceType": "datasetVersion"
    }
   ],
   "dockerImageVersionId": 30839,
   "isGpuEnabled": false,
   "isInternetEnabled": true,
   "language": "python",
   "sourceType": "notebook"
  },
  "kernelspec": {
   "display_name": "Python 3",
   "language": "python",
   "name": "python3"
  },
  "language_info": {
   "codemirror_mode": {
    "name": "ipython",
    "version": 3
   },
   "file_extension": ".py",
   "mimetype": "text/x-python",
   "name": "python",
   "nbconvert_exporter": "python",
   "pygments_lexer": "ipython3",
   "version": "3.10.16"
  },
  "papermill": {
   "default_parameters": {},
   "duration": 841.3422,
   "end_time": "2025-02-26T09:32:06.989015",
   "environment_variables": {},
   "exception": null,
   "input_path": "__notebook__.ipynb",
   "output_path": "__notebook__.ipynb",
   "parameters": {},
   "start_time": "2025-02-26T09:18:05.646815",
   "version": "2.6.0"
  }
 },
 "nbformat": 4,
 "nbformat_minor": 5
}
