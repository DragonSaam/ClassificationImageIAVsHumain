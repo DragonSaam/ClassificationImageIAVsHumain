{
 "cells": [
  {
   "cell_type": "code",
   "execution_count": 1,
   "id": "fbfaaa8b",
   "metadata": {
    "_cell_guid": "b1076dfc-b9ad-4769-8c92-a6c4dae69d19",
    "_uuid": "8f2839f25d086af736a60e9eeb907d3b93b6e0e5",
    "execution": {
     "iopub.execute_input": "2025-03-04T20:26:36.525980Z",
     "iopub.status.busy": "2025-03-04T20:26:36.525676Z",
     "iopub.status.idle": "2025-03-04T20:26:37.243854Z",
     "shell.execute_reply": "2025-03-04T20:26:37.243187Z"
    },
    "papermill": {
     "duration": 0.72461,
     "end_time": "2025-03-04T20:26:37.245359",
     "exception": false,
     "start_time": "2025-03-04T20:26:36.520749",
     "status": "completed"
    },
    "tags": []
   },
   "outputs": [],
   "source": [
    "# This Python 3 environment comes with many helpful analytics libraries installed\n",
    "# It is defined by the kaggle/python Docker image: https://github.com/kaggle/docker-python\n",
    "# For example, here's several helpful packages to load\n",
    "\n",
    "import numpy as np # linear algebra\n",
    "import pandas as pd # data processing, CSV file I/O (e.g. pd.read_csv)\n",
    "\n",
    "# Input data files are available in the read-only \"../input/\" directory\n",
    "# For example, running this (by clicking run or pressing Shift+Enter) will list all files under the input directory\n",
    "\n",
    "import os\n",
    "#for dirname, _, filenames in os.walk('/kaggle/input'):\n",
    "#    for filename in filenames:\n",
    "#        print(os.path.join(dirname, filename))\n",
    "\n",
    "# You can write up to 20GB to the current directory (/kaggle/working/) that gets preserved as output when you create a version using \"Save & Run All\" \n",
    "# You can also write temporary files to /kaggle/temp/, but they won't be saved outside of the current session"
   ]
  },
  {
   "cell_type": "code",
   "execution_count": 2,
   "id": "474734a3",
   "metadata": {
    "execution": {
     "iopub.execute_input": "2025-03-04T20:26:37.254069Z",
     "iopub.status.busy": "2025-03-04T20:26:37.253727Z",
     "iopub.status.idle": "2025-03-04T20:26:58.298885Z",
     "shell.execute_reply": "2025-03-04T20:26:58.298157Z"
    },
    "papermill": {
     "duration": 21.050814,
     "end_time": "2025-03-04T20:26:58.300350",
     "exception": false,
     "start_time": "2025-03-04T20:26:37.249536",
     "status": "completed"
    },
    "tags": []
   },
   "outputs": [],
   "source": [
    "#Import Bibliotheques - Import Library\n",
    "import torch\n",
    "import torch.nn as nn\n",
    "import torch.nn.functional as F\n",
    "from torch.utils.data import DataLoader, Dataset\n",
    "from torchvision import models, transforms\n",
    "from transformers import ViTForImageClassification\n",
    "from PIL import Image\n",
    "import pandas as pd\n",
    "from sklearn.model_selection import train_test_split"
   ]
  },
  {
   "cell_type": "code",
   "execution_count": 3,
   "id": "7d4f4f16",
   "metadata": {
    "execution": {
     "iopub.execute_input": "2025-03-04T20:26:58.309097Z",
     "iopub.status.busy": "2025-03-04T20:26:58.308589Z",
     "iopub.status.idle": "2025-03-04T20:26:58.537498Z",
     "shell.execute_reply": "2025-03-04T20:26:58.536494Z"
    },
    "papermill": {
     "duration": 0.234686,
     "end_time": "2025-03-04T20:26:58.538950",
     "exception": false,
     "start_time": "2025-03-04T20:26:58.304264",
     "status": "completed"
    },
    "tags": []
   },
   "outputs": [
    {
     "name": "stdout",
     "output_type": "stream",
     "text": [
      "   Unnamed: 0                                          file_name  label\n",
      "0           0  /kaggle/input/ai-vs-human-generated-dataset/tr...      1\n",
      "1           1  /kaggle/input/ai-vs-human-generated-dataset/tr...      0\n",
      "2           2  /kaggle/input/ai-vs-human-generated-dataset/tr...      1\n",
      "3           3  /kaggle/input/ai-vs-human-generated-dataset/tr...      0\n",
      "4           4  /kaggle/input/ai-vs-human-generated-dataset/tr...      1\n"
     ]
    }
   ],
   "source": [
    "#Importation des fichiers csv et création du chemin de récupération des images\n",
    "#Import CSV files and create recuperation path for images\n",
    "\n",
    "folder_path = \"/kaggle/input/ai-vs-human-generated-dataset\"\n",
    "train_csv_path = '/kaggle/input/ai-vs-human-generated-dataset/train.csv'\n",
    "train_csv = pd.read_csv(train_csv_path)\n",
    "\n",
    "def get_image_path(folder_path, image_name) :\n",
    "    return os.path.join(folder_path, image_name)\n",
    "\n",
    "#Ajout du chemin complet de l'image dans file_name\n",
    "#Add complet path of the image in the colomns file_name\n",
    "train_csv['file_name'] = train_csv['file_name'].apply(lambda name : get_image_path(folder_path, name))\n",
    "\n",
    "\n",
    "print(train_csv.head())"
   ]
  },
  {
   "cell_type": "code",
   "execution_count": 4,
   "id": "8a45f222",
   "metadata": {
    "execution": {
     "iopub.execute_input": "2025-03-04T20:26:58.547823Z",
     "iopub.status.busy": "2025-03-04T20:26:58.547561Z",
     "iopub.status.idle": "2025-03-04T20:26:58.566784Z",
     "shell.execute_reply": "2025-03-04T20:26:58.566112Z"
    },
    "papermill": {
     "duration": 0.025113,
     "end_time": "2025-03-04T20:26:58.568048",
     "exception": false,
     "start_time": "2025-03-04T20:26:58.542935",
     "status": "completed"
    },
    "tags": []
   },
   "outputs": [],
   "source": [
    "#Chargement d'un Dataset léger pour tester mon code\n",
    "#Low weight dataset loding - in order to test my code before the big loading\n",
    "train_test_csv = train_csv.head(1000)\n",
    "train_data_set = train_test_csv\n",
    "\n",
    "#Chargement du Dataset complet\n",
    "#Full dataset loading\n",
    "train_data_set = train_csv\n",
    "\n",
    "df = pd.DataFrame(train_data_set)\n",
    "\n",
    "#Dataset splité\n",
    "train_df, test_df = train_test_split(df, test_size=0.1, random_state=42)\n",
    "val_df, test_df = train_test_split(test_df, test_size=0.5, random_state=42)"
   ]
  },
  {
   "cell_type": "code",
   "execution_count": 5,
   "id": "1e276c68",
   "metadata": {
    "execution": {
     "iopub.execute_input": "2025-03-04T20:26:58.576599Z",
     "iopub.status.busy": "2025-03-04T20:26:58.576338Z",
     "iopub.status.idle": "2025-03-04T20:26:58.580066Z",
     "shell.execute_reply": "2025-03-04T20:26:58.579499Z"
    },
    "papermill": {
     "duration": 0.009304,
     "end_time": "2025-03-04T20:26:58.581199",
     "exception": false,
     "start_time": "2025-03-04T20:26:58.571895",
     "status": "completed"
    },
    "tags": []
   },
   "outputs": [],
   "source": [
    "# Définir des transformations\n",
    "#Define transformations\n",
    "transform = transforms.Compose([\n",
    "    transforms.Resize((224, 224)),  # Taille requise pour Vit\n",
    "    transforms.RandomHorizontalFlip(),  # Rotation aléatoire jusqu'à 15°\n",
    "    transforms.RandomRotation(15),\n",
    "    transforms.ToTensor(),       # Convertir en tenseur PyTorch\n",
    "    transforms.Normalize(mean=[0.5, 0.5, 0.5], std=[0.5, 0.5, 0.5])\n",
    "])"
   ]
  },
  {
   "cell_type": "code",
   "execution_count": 6,
   "id": "ad871a94",
   "metadata": {
    "execution": {
     "iopub.execute_input": "2025-03-04T20:26:58.589168Z",
     "iopub.status.busy": "2025-03-04T20:26:58.588968Z",
     "iopub.status.idle": "2025-03-04T20:26:58.593148Z",
     "shell.execute_reply": "2025-03-04T20:26:58.592566Z"
    },
    "papermill": {
     "duration": 0.009475,
     "end_time": "2025-03-04T20:26:58.594373",
     "exception": false,
     "start_time": "2025-03-04T20:26:58.584898",
     "status": "completed"
    },
    "tags": []
   },
   "outputs": [],
   "source": [
    "#Création d'un DataLoader avec une classe\n",
    "#Dataloader own class creation\n",
    "class CustomDataset(Dataset):\n",
    "    def __init__(self, dataframe, transform=None):\n",
    "        self.dataframe = dataframe\n",
    "        self.transform = transform\n",
    "\n",
    "    def __len__(self):\n",
    "        return len(self.dataframe)\n",
    "\n",
    "    def __getitem__(self, idx):\n",
    "        img_path = self.dataframe.iloc[idx]['file_name']\n",
    "        label = self.dataframe.iloc[idx]['label']\n",
    "\n",
    "        # Charger l'image\n",
    "        # load image\n",
    "        image = Image.open(img_path).convert(\"RGB\")\n",
    "\n",
    "        # Appliquer les transformations si spécifiées\n",
    "        # Apply transformation\n",
    "        if self.transform:\n",
    "            image = self.transform(image)\n",
    "\n",
    "        return image, torch.tensor(label, dtype=torch.float32)"
   ]
  },
  {
   "cell_type": "code",
   "execution_count": 7,
   "id": "a11228eb",
   "metadata": {
    "execution": {
     "iopub.execute_input": "2025-03-04T20:26:58.602354Z",
     "iopub.status.busy": "2025-03-04T20:26:58.602160Z",
     "iopub.status.idle": "2025-03-04T20:26:58.605372Z",
     "shell.execute_reply": "2025-03-04T20:26:58.604762Z"
    },
    "papermill": {
     "duration": 0.008552,
     "end_time": "2025-03-04T20:26:58.606615",
     "exception": false,
     "start_time": "2025-03-04T20:26:58.598063",
     "status": "completed"
    },
    "tags": []
   },
   "outputs": [],
   "source": [
    "#Création d'une instance de DataSet customisé\n",
    "#Dataset with transformation creation\n",
    "\n",
    "#custom_dataset = CustomDataset(df, transform=transform)\n",
    "#Dataset splité\n",
    "train_dataset = CustomDataset(train_df, transform=transform)\n",
    "val_dataset = CustomDataset(val_df, transform=transform)\n",
    "test_dataset = CustomDataset(test_df, transform=transform)"
   ]
  },
  {
   "cell_type": "code",
   "execution_count": 8,
   "id": "3d0342f5",
   "metadata": {
    "execution": {
     "iopub.execute_input": "2025-03-04T20:26:58.614708Z",
     "iopub.status.busy": "2025-03-04T20:26:58.614496Z",
     "iopub.status.idle": "2025-03-04T20:26:58.617999Z",
     "shell.execute_reply": "2025-03-04T20:26:58.617429Z"
    },
    "papermill": {
     "duration": 0.008888,
     "end_time": "2025-03-04T20:26:58.619234",
     "exception": false,
     "start_time": "2025-03-04T20:26:58.610346",
     "status": "completed"
    },
    "tags": []
   },
   "outputs": [],
   "source": [
    "#Création d'un Dataloader pour itération des données\n",
    "#Dataloader for data iteration\n",
    "\n",
    "#custom_loader = DataLoader(custom_dataset, batch_size=32, shuffle=True)\n",
    "#Dataset splité\n",
    "train_loader = DataLoader(train_dataset, batch_size=16, shuffle=True)\n",
    "val_loader = DataLoader(val_dataset, batch_size=16, shuffle=False)\n",
    "test_loader = DataLoader(test_dataset, batch_size=16, shuffle=False)"
   ]
  },
  {
   "cell_type": "code",
   "execution_count": 9,
   "id": "76af96f8",
   "metadata": {
    "execution": {
     "iopub.execute_input": "2025-03-04T20:26:58.627265Z",
     "iopub.status.busy": "2025-03-04T20:26:58.627065Z",
     "iopub.status.idle": "2025-03-04T20:27:02.073199Z",
     "shell.execute_reply": "2025-03-04T20:27:02.072500Z"
    },
    "papermill": {
     "duration": 3.451926,
     "end_time": "2025-03-04T20:27:02.074870",
     "exception": false,
     "start_time": "2025-03-04T20:26:58.622944",
     "status": "completed"
    },
    "tags": []
   },
   "outputs": [
    {
     "name": "stderr",
     "output_type": "stream",
     "text": [
      "Downloading: \"https://download.pytorch.org/models/convnext_base-6075fbad.pth\" to /root/.cache/torch/hub/checkpoints/convnext_base-6075fbad.pth\n",
      "100%|██████████| 338M/338M [00:01<00:00, 233MB/s]\n"
     ]
    }
   ],
   "source": [
    "# Charger le modèle ConvNeXt pré-entraîné d'origine\n",
    "model = models.convnext_base(weights=\"DEFAULT\")\n",
    "# Adapter la dernière couche pour une sortie binaire\n",
    "num_features = model.classifier[2].in_features\n",
    "model.classifier[2] = nn.Sequential(\n",
    "    nn.Linear(num_features, 1),  # Une seule sortie pour binaire\n",
    "    nn.Sigmoid()  # Activation sigmoïde pour probabilité\n",
    ")\n",
    "\n"
   ]
  },
  {
   "cell_type": "code",
   "execution_count": 10,
   "id": "99b15f38",
   "metadata": {
    "execution": {
     "iopub.execute_input": "2025-03-04T20:27:02.085632Z",
     "iopub.status.busy": "2025-03-04T20:27:02.085346Z",
     "iopub.status.idle": "2025-03-04T20:27:02.088358Z",
     "shell.execute_reply": "2025-03-04T20:27:02.087631Z"
    },
    "papermill": {
     "duration": 0.009478,
     "end_time": "2025-03-04T20:27:02.089647",
     "exception": false,
     "start_time": "2025-03-04T20:27:02.080169",
     "status": "completed"
    },
    "tags": []
   },
   "outputs": [],
   "source": [
    "#import os\n",
    "#print(os.listdir(\"/kaggle/input/convnext_model_sys_v2_epoque4/pytorch/default/1/\"))"
   ]
  },
  {
   "cell_type": "code",
   "execution_count": 11,
   "id": "fd4c1a12",
   "metadata": {
    "execution": {
     "iopub.execute_input": "2025-03-04T20:27:02.100152Z",
     "iopub.status.busy": "2025-03-04T20:27:02.099949Z",
     "iopub.status.idle": "2025-03-04T20:27:02.102750Z",
     "shell.execute_reply": "2025-03-04T20:27:02.102123Z"
    },
    "papermill": {
     "duration": 0.009637,
     "end_time": "2025-03-04T20:27:02.103910",
     "exception": false,
     "start_time": "2025-03-04T20:27:02.094273",
     "status": "completed"
    },
    "tags": []
   },
   "outputs": [],
   "source": [
    "# Charger le modèle sauvegardé\n",
    "#import kagglehub\n",
    "#convnext_model_sys_pytorch_default_1_path = kagglehub.model_download('/kaggle/input/convnext_model_sys/pytorch/default/1/convnext_model_SYS.pth')\n",
    "\n",
    "#model.load_state_dict(torch.load(\"/kaggle/input/convnext_model_sys_v2_epoque4/pytorch/default/1/convnext_model_SYS_V2_Epoque4.pth\"))\n",
    "#model.train()  # Remettre le modèle en mode entraînement\n"
   ]
  },
  {
   "cell_type": "code",
   "execution_count": 12,
   "id": "e4cdcec7",
   "metadata": {
    "execution": {
     "iopub.execute_input": "2025-03-04T20:27:02.113817Z",
     "iopub.status.busy": "2025-03-04T20:27:02.113615Z",
     "iopub.status.idle": "2025-03-04T20:27:02.455604Z",
     "shell.execute_reply": "2025-03-04T20:27:02.454862Z"
    },
    "papermill": {
     "duration": 0.348574,
     "end_time": "2025-03-04T20:27:02.457190",
     "exception": false,
     "start_time": "2025-03-04T20:27:02.108616",
     "status": "completed"
    },
    "tags": []
   },
   "outputs": [],
   "source": [
    "# Déplacer le modèle sur le GPU si disponible\n",
    "device = torch.device(\"cuda\" if torch.cuda.is_available() else \"cpu\")\n",
    "model = model.to(device)\n",
    "\n",
    "#print(model)"
   ]
  },
  {
   "cell_type": "code",
   "execution_count": 13,
   "id": "510d4da1",
   "metadata": {
    "execution": {
     "iopub.execute_input": "2025-03-04T20:27:02.468044Z",
     "iopub.status.busy": "2025-03-04T20:27:02.467821Z",
     "iopub.status.idle": "2025-03-04T20:27:02.472382Z",
     "shell.execute_reply": "2025-03-04T20:27:02.471775Z"
    },
    "papermill": {
     "duration": 0.011311,
     "end_time": "2025-03-04T20:27:02.473643",
     "exception": false,
     "start_time": "2025-03-04T20:27:02.462332",
     "status": "completed"
    },
    "tags": []
   },
   "outputs": [],
   "source": [
    "#Définir la fonction de perte et l'optimiseur\n",
    "#Define lost function and optimiser\n",
    "criterion = nn.BCELoss()  # Binary Cross-Entropy Loss\n",
    "optimizer = torch.optim.AdamW(model.parameters(), lr=0.05)"
   ]
  },
  {
   "cell_type": "code",
   "execution_count": 14,
   "id": "32ce1b49",
   "metadata": {
    "execution": {
     "iopub.execute_input": "2025-03-04T20:27:02.483683Z",
     "iopub.status.busy": "2025-03-04T20:27:02.483483Z",
     "iopub.status.idle": "2025-03-04T22:53:12.426071Z",
     "shell.execute_reply": "2025-03-04T22:53:12.425145Z"
    },
    "papermill": {
     "duration": 8769.954159,
     "end_time": "2025-03-04T22:53:12.432584",
     "exception": false,
     "start_time": "2025-03-04T20:27:02.478425",
     "status": "completed"
    },
    "tags": []
   },
   "outputs": [
    {
     "name": "stdout",
     "output_type": "stream",
     "text": [
      "Époque 1, Perte entraînement : 0.7744, Perte validation : 0.7126, Exactitude validation : 50.04%\n",
      "Époque 2, Perte entraînement : 0.7410, Perte validation : 0.7294, Exactitude validation : 49.96%\n"
     ]
    }
   ],
   "source": [
    "#Entraînement du modèle\n",
    "#Fit model\n",
    "# Entraînement du modèle\n",
    "for epoch in range(2):  # Nombre d'époques\n",
    "    model.train()\n",
    "    running_loss = 0.0\n",
    "    for inputs, labels in train_loader:\n",
    "        inputs, labels = inputs.to(device), labels.to(device)\n",
    "        labels = labels.view(-1, 1)  # Adapter les dimensions des labels\n",
    "\n",
    "        # Forward pass\n",
    "        outputs = model(inputs)\n",
    "        loss = criterion(outputs, labels)\n",
    "\n",
    "        # Backward pass et optimisation\n",
    "        optimizer.zero_grad()\n",
    "        loss.backward()\n",
    "        optimizer.step()\n",
    "\n",
    "        running_loss += loss.item()\n",
    "\n",
    "    # Évaluation sur l'ensemble de validation\n",
    "    model.eval()\n",
    "    val_loss = 0.0\n",
    "    correct = 0\n",
    "    total = 0\n",
    "    with torch.no_grad():\n",
    "        for inputs, labels in val_loader:\n",
    "            inputs, labels = inputs.to(device), labels.to(device)\n",
    "            labels = labels.view(-1, 1)\n",
    "\n",
    "            outputs = model(inputs)\n",
    "            loss = criterion(outputs, labels)\n",
    "            val_loss += loss.item()\n",
    "\n",
    "            predictions = (outputs > 0.5).float()\n",
    "            correct += (predictions.view(-1) == labels.view(-1)).sum().item()\n",
    "            total += labels.size(0)\n",
    "\n",
    "    val_accuracy = 100 * correct / total\n",
    "    print(f\"Époque {epoch+1}, Perte entraînement : {running_loss/len(train_loader):.4f}, Perte validation : {val_loss/len(val_loader):.4f}, Exactitude validation : {val_accuracy:.2f}%\")\n"
   ]
  },
  {
   "cell_type": "code",
   "execution_count": 15,
   "id": "9656ceb2",
   "metadata": {
    "execution": {
     "iopub.execute_input": "2025-03-04T22:53:12.443751Z",
     "iopub.status.busy": "2025-03-04T22:53:12.443521Z",
     "iopub.status.idle": "2025-03-04T22:54:21.133342Z",
     "shell.execute_reply": "2025-03-04T22:54:21.132518Z"
    },
    "papermill": {
     "duration": 68.702239,
     "end_time": "2025-03-04T22:54:21.139834",
     "exception": false,
     "start_time": "2025-03-04T22:53:12.437595",
     "status": "completed"
    },
    "tags": []
   },
   "outputs": [
    {
     "name": "stdout",
     "output_type": "stream",
     "text": [
      "Exactitude : 50.43%\n"
     ]
    }
   ],
   "source": [
    "# Évaluation du modèle\n",
    "model.eval()\n",
    "correct = 0\n",
    "total = 0\n",
    "with torch.no_grad():\n",
    "    for inputs, labels in test_loader:\n",
    "        inputs, labels = inputs.to(device), labels.to(device)\n",
    "        outputs = model(inputs)\n",
    "        predictions = (outputs > 0.5).float()\n",
    "        correct += (predictions.view(-1) == labels).sum().item()\n",
    "        total += labels.size(0)\n",
    "\n",
    "print(f\"Exactitude : {100 * correct / total:.2f}%\")"
   ]
  },
  {
   "cell_type": "code",
   "execution_count": 16,
   "id": "c0ad55b8",
   "metadata": {
    "execution": {
     "iopub.execute_input": "2025-03-04T22:54:21.151225Z",
     "iopub.status.busy": "2025-03-04T22:54:21.150994Z",
     "iopub.status.idle": "2025-03-04T22:54:21.574340Z",
     "shell.execute_reply": "2025-03-04T22:54:21.573669Z"
    },
    "papermill": {
     "duration": 0.430643,
     "end_time": "2025-03-04T22:54:21.575991",
     "exception": false,
     "start_time": "2025-03-04T22:54:21.145348",
     "status": "completed"
    },
    "tags": []
   },
   "outputs": [],
   "source": [
    "# Sauvegarder le modèle\n",
    "torch.save(model.state_dict(), 'convnext_SYS_Ep2_lr05.pth')"
   ]
  },
  {
   "cell_type": "code",
   "execution_count": 17,
   "id": "b5990242",
   "metadata": {
    "execution": {
     "iopub.execute_input": "2025-03-04T22:54:21.587633Z",
     "iopub.status.busy": "2025-03-04T22:54:21.587346Z",
     "iopub.status.idle": "2025-03-04T22:54:21.590098Z",
     "shell.execute_reply": "2025-03-04T22:54:21.589518Z"
    },
    "papermill": {
     "duration": 0.009931,
     "end_time": "2025-03-04T22:54:21.591393",
     "exception": false,
     "start_time": "2025-03-04T22:54:21.581462",
     "status": "completed"
    },
    "tags": []
   },
   "outputs": [],
   "source": [
    "# Charger le modèle pour l'inférence\n",
    "#model.load_state_dict(torch.load('convnext_model_SYS.pth', map_location=device))\n",
    "#model.eval()"
   ]
  },
  {
   "cell_type": "markdown",
   "id": "52936fa7",
   "metadata": {
    "papermill": {
     "duration": 0.005235,
     "end_time": "2025-03-04T22:54:21.601894",
     "exception": false,
     "start_time": "2025-03-04T22:54:21.596659",
     "status": "completed"
    },
    "tags": []
   },
   "source": [
    "**CLASSIFICATION DES IMAGES TEST NON ETIQUETEES - UNLABELED IMAGES CLASSIFICATION**"
   ]
  },
  {
   "cell_type": "code",
   "execution_count": 18,
   "id": "2fc0a707",
   "metadata": {
    "execution": {
     "iopub.execute_input": "2025-03-04T22:54:21.612684Z",
     "iopub.status.busy": "2025-03-04T22:54:21.612456Z",
     "iopub.status.idle": "2025-03-04T22:54:21.634717Z",
     "shell.execute_reply": "2025-03-04T22:54:21.634023Z"
    },
    "papermill": {
     "duration": 0.029077,
     "end_time": "2025-03-04T22:54:21.635923",
     "exception": false,
     "start_time": "2025-03-04T22:54:21.606846",
     "status": "completed"
    },
    "tags": []
   },
   "outputs": [
    {
     "name": "stdout",
     "output_type": "stream",
     "text": [
      "0    test_data_v2/1a2d9fd3e21b4266aea1f66b30aed157.jpg\n",
      "1    test_data_v2/ab5df8f441fe4fbf9dc9c6baae699dc7.jpg\n",
      "2    test_data_v2/eb364dd2dfe34feda0e52466b7ce7956.jpg\n",
      "3    test_data_v2/f76c2580e9644d85a741a42c6f6b39c0.jpg\n",
      "4    test_data_v2/a16495c578b7494683805484ca27cf9f.jpg\n",
      "Name: id, dtype: object\n"
     ]
    }
   ],
   "source": [
    "#Préparation des données de test final\n",
    "#Final test data preparation\n",
    "test_csv_path = '/kaggle/input/ai-vs-human-generated-dataset/test.csv'\n",
    "test_csv = pd.read_csv(test_csv_path)\n",
    "id_csv = test_csv['id']\n",
    "test_csv['id'] = test_csv['id'].apply(lambda name : get_image_path(folder_path, name))\n",
    "\n",
    "#Chargement d'un Dataset léger pour tester mon code\n",
    "#Low weight dataset loding - in order to test my code before the big loading\n",
    "test_test_csv = test_csv.head(50)\n",
    "test_data_set = test_test_csv\n",
    "\n",
    "#Chargement du Dataset complet\n",
    "#Full dataset loading\n",
    "test_data_set = test_csv\n",
    "\n",
    "#Création du DataFrame de test\n",
    "#Test Dataframe creation\n",
    "df_test = pd.DataFrame(test_data_set)\n",
    "print(id_csv.head())"
   ]
  },
  {
   "cell_type": "code",
   "execution_count": 19,
   "id": "0c09a8bb",
   "metadata": {
    "execution": {
     "iopub.execute_input": "2025-03-04T22:54:21.647154Z",
     "iopub.status.busy": "2025-03-04T22:54:21.646948Z",
     "iopub.status.idle": "2025-03-04T22:54:21.651021Z",
     "shell.execute_reply": "2025-03-04T22:54:21.650424Z"
    },
    "papermill": {
     "duration": 0.010791,
     "end_time": "2025-03-04T22:54:21.652128",
     "exception": false,
     "start_time": "2025-03-04T22:54:21.641337",
     "status": "completed"
    },
    "tags": []
   },
   "outputs": [],
   "source": [
    "#Création d'un DataLoader_test avec une classe\n",
    "#Dataloader own class creation\n",
    "class CustomDataset(Dataset):\n",
    "    def __init__(self, dataframe, transform=None):\n",
    "        self.dataframe = dataframe\n",
    "        self.transform = transform\n",
    "\n",
    "    def __len__(self):\n",
    "        return len(self.dataframe)\n",
    "\n",
    "    def __getitem__(self, idx):\n",
    "        img_path = self.dataframe.iloc[idx]['id']\n",
    "\n",
    "        # Charger l'image\n",
    "        # load image\n",
    "        image = Image.open(img_path).convert(\"RGB\")\n",
    "\n",
    "        # Appliquer les transformations si spécifiées\n",
    "        # Apply transformation\n",
    "        if self.transform:\n",
    "            image = self.transform(image)\n",
    "\n",
    "        return image, self.dataframe.iloc[idx]['id']\n"
   ]
  },
  {
   "cell_type": "code",
   "execution_count": 20,
   "id": "2353fd29",
   "metadata": {
    "execution": {
     "iopub.execute_input": "2025-03-04T22:54:21.663016Z",
     "iopub.status.busy": "2025-03-04T22:54:21.662817Z",
     "iopub.status.idle": "2025-03-04T22:54:21.666709Z",
     "shell.execute_reply": "2025-03-04T22:54:21.665888Z"
    },
    "papermill": {
     "duration": 0.010769,
     "end_time": "2025-03-04T22:54:21.668005",
     "exception": false,
     "start_time": "2025-03-04T22:54:21.657236",
     "status": "completed"
    },
    "tags": []
   },
   "outputs": [],
   "source": [
    "#Création d'une instance de DataSet customisé\n",
    "#Dataset with transformation creation\n",
    "custom_dataset_test = CustomDataset(df_test, transform=transform)\n",
    "\n",
    "#Création d'un Dataloader pour itération des données\n",
    "#Dataloader for data iteration\n",
    "custom_loader_test = DataLoader(custom_dataset_test, batch_size=16, shuffle=True, num_workers=4)"
   ]
  },
  {
   "cell_type": "code",
   "execution_count": 21,
   "id": "dab061c7",
   "metadata": {
    "execution": {
     "iopub.execute_input": "2025-03-04T22:54:21.679119Z",
     "iopub.status.busy": "2025-03-04T22:54:21.678895Z",
     "iopub.status.idle": "2025-03-04T22:54:21.682012Z",
     "shell.execute_reply": "2025-03-04T22:54:21.681229Z"
    },
    "papermill": {
     "duration": 0.009986,
     "end_time": "2025-03-04T22:54:21.683136",
     "exception": false,
     "start_time": "2025-03-04T22:54:21.673150",
     "status": "completed"
    },
    "tags": []
   },
   "outputs": [],
   "source": [
    "# Liste pour stocker les résultats\n",
    "results = []\n",
    "id_counter = 0  # Initialisation du compteur d'ID"
   ]
  },
  {
   "cell_type": "code",
   "execution_count": 22,
   "id": "767253cd",
   "metadata": {
    "execution": {
     "iopub.execute_input": "2025-03-04T22:54:21.694293Z",
     "iopub.status.busy": "2025-03-04T22:54:21.694092Z",
     "iopub.status.idle": "2025-03-04T22:55:32.254621Z",
     "shell.execute_reply": "2025-03-04T22:55:32.253611Z"
    },
    "papermill": {
     "duration": 70.571916,
     "end_time": "2025-03-04T22:55:32.260175",
     "exception": false,
     "start_time": "2025-03-04T22:54:21.688259",
     "status": "completed"
    },
    "tags": []
   },
   "outputs": [
    {
     "name": "stdout",
     "output_type": "stream",
     "text": [
      "Fichier CSV généré : predictions.csv\n",
      "                                                     id  label\n",
      "0     test_data_v2/1a2d9fd3e21b4266aea1f66b30aed157.jpg      0\n",
      "1     test_data_v2/ab5df8f441fe4fbf9dc9c6baae699dc7.jpg      0\n",
      "2     test_data_v2/eb364dd2dfe34feda0e52466b7ce7956.jpg      0\n",
      "3     test_data_v2/f76c2580e9644d85a741a42c6f6b39c0.jpg      0\n",
      "4     test_data_v2/a16495c578b7494683805484ca27cf9f.jpg      0\n",
      "...                                                 ...    ...\n",
      "5535  test_data_v2/483412064ff74d9d9472d606b65976d9.jpg      0\n",
      "5536  test_data_v2/c0b49ba4081a4197b422dac7c15aea7f.jpg      0\n",
      "5537  test_data_v2/01454aaedec140c0a3ca1f48028c41cf.jpg      0\n",
      "5538  test_data_v2/e9adfea8b67e4791968c4c2bdd8ec343.jpg      0\n",
      "5539  test_data_v2/ba8f4198e8d74d3394fa56c56af23442.jpg      0\n",
      "\n",
      "[5540 rows x 2 columns]\n"
     ]
    }
   ],
   "source": [
    "# Itérer sur le DataLoader et faire des prédictions\n",
    "# Prédictions sur les données non étiquetées\n",
    "model.eval()\n",
    "with torch.no_grad():\n",
    "    for i, (inputs, _) in enumerate(custom_loader_test):  # On ignore le label puisque les images sont non étiquetées\n",
    "        inputs = inputs.to(device)\n",
    "        outputs = model(inputs)\n",
    "        predictions = (outputs > 0.5).int()  # Convertir les probabilités en 0/1\n",
    "\n",
    "        # Ajouter chaque prédiction au tableau des résultats\n",
    "        for pred in predictions.cpu().numpy():\n",
    "            #results.append({'id': len(results) + 1, 'label': int(pred)})\n",
    "            results.append({'id': id_csv[id_counter], 'label': int(pred.item() if hasattr(pred, 'item') else pred)})\n",
    "            id_counter += 1  # Incrémenter le compteur\n",
    "\n",
    "\n",
    "# Convertir en DataFrame\n",
    "results_df = pd.DataFrame(results)\n",
    "\n",
    "# Sauvegarder le DataFrame en fichier CSV\n",
    "output_csv_path = \"predictions.csv\"\n",
    "#results_df.to_csv(output_csv_path, index=False, sep=';')\n",
    "results_df.to_csv(output_csv_path, index=False, sep=',')\n",
    "\n",
    "print(f\"Fichier CSV généré : {output_csv_path}\")\n",
    "print(results_df)\n"
   ]
  },
  {
   "cell_type": "code",
   "execution_count": 23,
   "id": "a20b91a7",
   "metadata": {
    "execution": {
     "iopub.execute_input": "2025-03-04T22:55:32.271939Z",
     "iopub.status.busy": "2025-03-04T22:55:32.271608Z",
     "iopub.status.idle": "2025-03-04T22:55:32.277533Z",
     "shell.execute_reply": "2025-03-04T22:55:32.276736Z"
    },
    "papermill": {
     "duration": 0.013036,
     "end_time": "2025-03-04T22:55:32.278840",
     "exception": false,
     "start_time": "2025-03-04T22:55:32.265804",
     "status": "completed"
    },
    "tags": []
   },
   "outputs": [
    {
     "data": {
      "text/html": [
       "<a href='predictions.csv' target='_blank'>predictions.csv</a><br>"
      ],
      "text/plain": [
       "/kaggle/working/predictions.csv"
      ]
     },
     "execution_count": 23,
     "metadata": {},
     "output_type": "execute_result"
    }
   ],
   "source": [
    "from IPython.display import FileLink\n",
    "FileLink(\"predictions.csv\")"
   ]
  }
 ],
 "metadata": {
  "kaggle": {
   "accelerator": "gpu",
   "dataSources": [
    {
     "databundleVersionId": 10884264,
     "sourceId": 91198,
     "sourceType": "competition"
    },
    {
     "datasetId": 6412205,
     "sourceId": 10550636,
     "sourceType": "datasetVersion"
    },
    {
     "isSourceIdPinned": true,
     "modelId": 252710,
     "modelInstanceId": 230953,
     "sourceId": 269877,
     "sourceType": "modelInstanceVersion"
    },
    {
     "isSourceIdPinned": true,
     "modelId": 253828,
     "modelInstanceId": 232096,
     "sourceId": 271149,
     "sourceType": "modelInstanceVersion"
    },
    {
     "isSourceIdPinned": true,
     "modelId": 255561,
     "modelInstanceId": 233847,
     "sourceId": 273128,
     "sourceType": "modelInstanceVersion"
    }
   ],
   "dockerImageVersionId": 30839,
   "isGpuEnabled": true,
   "isInternetEnabled": true,
   "language": "python",
   "sourceType": "notebook"
  },
  "kernelspec": {
   "display_name": "Python 3",
   "language": "python",
   "name": "python3"
  },
  "language_info": {
   "codemirror_mode": {
    "name": "ipython",
    "version": 3
   },
   "file_extension": ".py",
   "mimetype": "text/x-python",
   "name": "python",
   "nbconvert_exporter": "python",
   "pygments_lexer": "ipython3",
   "version": "3.10.12"
  },
  "papermill": {
   "default_parameters": {},
   "duration": 8941.813973,
   "end_time": "2025-03-04T22:55:35.791897",
   "environment_variables": {},
   "exception": null,
   "input_path": "__notebook__.ipynb",
   "output_path": "__notebook__.ipynb",
   "parameters": {},
   "start_time": "2025-03-04T20:26:33.977924",
   "version": "2.6.0"
  }
 },
 "nbformat": 4,
 "nbformat_minor": 5
}
