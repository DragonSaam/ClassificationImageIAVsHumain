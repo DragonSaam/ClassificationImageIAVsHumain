{
 "cells": [
  {
   "cell_type": "code",
   "execution_count": 1,
   "id": "494d551a",
   "metadata": {
    "_cell_guid": "b1076dfc-b9ad-4769-8c92-a6c4dae69d19",
    "_uuid": "8f2839f25d086af736a60e9eeb907d3b93b6e0e5",
    "execution": {
     "iopub.execute_input": "2025-02-25T16:26:23.147175Z",
     "iopub.status.busy": "2025-02-25T16:26:23.146884Z",
     "iopub.status.idle": "2025-02-25T16:26:24.824777Z",
     "shell.execute_reply": "2025-02-25T16:26:24.824007Z"
    },
    "papermill": {
     "duration": 1.685699,
     "end_time": "2025-02-25T16:26:24.827255",
     "exception": false,
     "start_time": "2025-02-25T16:26:23.141556",
     "status": "completed"
    },
    "tags": []
   },
   "outputs": [],
   "source": [
    "# This Python 3 environment comes with many helpful analytics libraries installed\n",
    "# It is defined by the kaggle/python Docker image: https://github.com/kaggle/docker-python\n",
    "# For example, here's several helpful packages to load\n",
    "\n",
    "import numpy as np # linear algebra\n",
    "import pandas as pd # data processing, CSV file I/O (e.g. pd.read_csv)\n",
    "\n",
    "# Input data files are available in the read-only \"../input/\" directory\n",
    "# For example, running this (by clicking run or pressing Shift+Enter) will list all files under the input directory\n",
    "\n",
    "import os\n",
    "#for dirname, _, filenames in os.walk('/kaggle/input'):\n",
    "#    for filename in filenames:\n",
    "#        print(os.path.join(dirname, filename))\n",
    "\n",
    "# You can write up to 20GB to the current directory (/kaggle/working/) that gets preserved as output when you create a version using \"Save & Run All\" \n",
    "# You can also write temporary files to /kaggle/temp/, but they won't be saved outside of the current session"
   ]
  },
  {
   "cell_type": "code",
   "execution_count": 2,
   "id": "9d235922",
   "metadata": {
    "execution": {
     "iopub.execute_input": "2025-02-25T16:26:24.836165Z",
     "iopub.status.busy": "2025-02-25T16:26:24.835786Z",
     "iopub.status.idle": "2025-02-25T16:26:57.868061Z",
     "shell.execute_reply": "2025-02-25T16:26:57.866611Z"
    },
    "papermill": {
     "duration": 33.03801,
     "end_time": "2025-02-25T16:26:57.869058",
     "exception": false,
     "start_time": "2025-02-25T16:26:24.831048",
     "status": "completed"
    },
    "tags": []
   },
   "outputs": [],
   "source": [
    "#Import Bibliotheques - Import Library\n",
    "import torch\n",
    "import torch.nn as nn\n",
    "import torch.nn.functional as F\n",
    "from torch.utils.data import DataLoader, Dataset\n",
    "from torchvision import models, transforms\n",
    "from PIL import Image\n",
    "import pandas as pd\n",
    "from sklearn.model_selection import train_test_split"
   ]
  },
  {
   "cell_type": "code",
   "execution_count": 3,
   "id": "6f1e97c3",
   "metadata": {
    "execution": {
     "iopub.execute_input": "2025-02-25T16:26:57.877809Z",
     "iopub.status.busy": "2025-02-25T16:26:57.877482Z",
     "iopub.status.idle": "2025-02-25T16:26:58.109368Z",
     "shell.execute_reply": "2025-02-25T16:26:58.108032Z"
    },
    "papermill": {
     "duration": 0.237738,
     "end_time": "2025-02-25T16:26:58.110502",
     "exception": false,
     "start_time": "2025-02-25T16:26:57.872764",
     "status": "completed"
    },
    "tags": []
   },
   "outputs": [
    {
     "name": "stdout",
     "output_type": "stream",
     "text": [
      "   Unnamed: 0                                          file_name  label\n",
      "0           0  /kaggle/input/ai-vs-human-generated-dataset/tr...      1\n",
      "1           1  /kaggle/input/ai-vs-human-generated-dataset/tr...      0\n",
      "2           2  /kaggle/input/ai-vs-human-generated-dataset/tr...      1\n",
      "3           3  /kaggle/input/ai-vs-human-generated-dataset/tr...      0\n",
      "4           4  /kaggle/input/ai-vs-human-generated-dataset/tr...      1\n"
     ]
    }
   ],
   "source": [
    "#Importation des fichiers csv et création du chemin de récupération des images\n",
    "#Import CSV files and create recuperation path for images\n",
    "\n",
    "folder_path = \"/kaggle/input/ai-vs-human-generated-dataset\"\n",
    "train_csv_path = '/kaggle/input/ai-vs-human-generated-dataset/train.csv'\n",
    "train_csv = pd.read_csv(train_csv_path)\n",
    "\n",
    "def get_image_path(folder_path, image_name) :\n",
    "    return os.path.join(folder_path, image_name)\n",
    "\n",
    "#Ajout du chemin complet de l'image dans file_name\n",
    "#Add complet path of the image in the colomns file_name\n",
    "train_csv['file_name'] = train_csv['file_name'].apply(lambda name : get_image_path(folder_path, name))\n",
    "\n",
    "\n",
    "print(train_csv.head())"
   ]
  },
  {
   "cell_type": "code",
   "execution_count": 4,
   "id": "5b059eca",
   "metadata": {
    "execution": {
     "iopub.execute_input": "2025-02-25T16:26:58.119861Z",
     "iopub.status.busy": "2025-02-25T16:26:58.119555Z",
     "iopub.status.idle": "2025-02-25T16:26:58.135956Z",
     "shell.execute_reply": "2025-02-25T16:26:58.134813Z"
    },
    "papermill": {
     "duration": 0.02319,
     "end_time": "2025-02-25T16:26:58.137614",
     "exception": false,
     "start_time": "2025-02-25T16:26:58.114424",
     "status": "completed"
    },
    "tags": []
   },
   "outputs": [],
   "source": [
    "#Chargement d'un Dataset léger pour tester mon code\n",
    "#Low weight dataset loding - in order to test my code before the big loading\n",
    "train_test_csv = train_csv.head(1000)\n",
    "train_data_set = train_test_csv\n",
    "\n",
    "#Chargement du Dataset complet\n",
    "#Full dataset loading\n",
    "train_data_set = train_csv\n",
    "\n",
    "df = pd.DataFrame(train_data_set)\n",
    "\n",
    "#Dataset splité\n",
    "train_df, test_df = train_test_split(df, test_size=0.2, random_state=42)\n",
    "val_df, test_df = train_test_split(test_df, test_size=0.5, random_state=42)"
   ]
  },
  {
   "cell_type": "code",
   "execution_count": 5,
   "id": "166ec608",
   "metadata": {
    "execution": {
     "iopub.execute_input": "2025-02-25T16:26:58.147058Z",
     "iopub.status.busy": "2025-02-25T16:26:58.146779Z",
     "iopub.status.idle": "2025-02-25T16:26:58.152114Z",
     "shell.execute_reply": "2025-02-25T16:26:58.150537Z"
    },
    "papermill": {
     "duration": 0.01169,
     "end_time": "2025-02-25T16:26:58.153371",
     "exception": false,
     "start_time": "2025-02-25T16:26:58.141681",
     "status": "completed"
    },
    "tags": []
   },
   "outputs": [],
   "source": [
    "# Définir des transformations\n",
    "#Define transformations\n",
    "transform = transforms.Compose([\n",
    "    transforms.Resize((380, 380)),  # Redimensionner toutes les images\n",
    "    #transforms.RandomRotation(15),  # Rotation aléatoire jusqu'à 15°\n",
    "    #transforms.RandomResizedCrop(224, scale=(0.8, 1.0)),  # Recadrage aléatoire\n",
    "    #transforms.ColorJitter(brightness=0.2, contrast=0.2, saturation=0.2), # Variations de couleur\n",
    "    transforms.ToTensor(),       # Convertir en tenseur PyTorch\n",
    "    transforms.Normalize(mean=[0.485, 0.456, 0.406], std=[0.229, 0.224, 0.225])  # Normalisation ImageNet\n",
    "])"
   ]
  },
  {
   "cell_type": "code",
   "execution_count": 6,
   "id": "8107b8fd",
   "metadata": {
    "execution": {
     "iopub.execute_input": "2025-02-25T16:26:58.162628Z",
     "iopub.status.busy": "2025-02-25T16:26:58.162249Z",
     "iopub.status.idle": "2025-02-25T16:26:58.168565Z",
     "shell.execute_reply": "2025-02-25T16:26:58.167433Z"
    },
    "papermill": {
     "duration": 0.012828,
     "end_time": "2025-02-25T16:26:58.170037",
     "exception": false,
     "start_time": "2025-02-25T16:26:58.157209",
     "status": "completed"
    },
    "tags": []
   },
   "outputs": [],
   "source": [
    "#Création d'un DataLoader avec une classe\n",
    "#Dataloader own class creation\n",
    "class CustomDataset(Dataset):\n",
    "    def __init__(self, dataframe, transform=None):\n",
    "        self.dataframe = dataframe\n",
    "        self.transform = transform\n",
    "\n",
    "    def __len__(self):\n",
    "        return len(self.dataframe)\n",
    "\n",
    "    def __getitem__(self, idx):\n",
    "        img_path = self.dataframe.iloc[idx]['file_name']\n",
    "        label = self.dataframe.iloc[idx]['label']\n",
    "\n",
    "        # Charger l'image\n",
    "        # load image\n",
    "        image = Image.open(img_path).convert(\"RGB\")\n",
    "\n",
    "        # Appliquer les transformations si spécifiées\n",
    "        # Apply transformation\n",
    "        if self.transform:\n",
    "            image = self.transform(image)\n",
    "\n",
    "        return image, torch.tensor(label, dtype=torch.float32)"
   ]
  },
  {
   "cell_type": "code",
   "execution_count": 7,
   "id": "c0a65e56",
   "metadata": {
    "execution": {
     "iopub.execute_input": "2025-02-25T16:26:58.180476Z",
     "iopub.status.busy": "2025-02-25T16:26:58.180149Z",
     "iopub.status.idle": "2025-02-25T16:26:58.184449Z",
     "shell.execute_reply": "2025-02-25T16:26:58.183382Z"
    },
    "papermill": {
     "duration": 0.010737,
     "end_time": "2025-02-25T16:26:58.185746",
     "exception": false,
     "start_time": "2025-02-25T16:26:58.175009",
     "status": "completed"
    },
    "tags": []
   },
   "outputs": [],
   "source": [
    "#Création d'une instance de DataSet customisé\n",
    "#Dataset with transformation creation\n",
    "\n",
    "#custom_dataset = CustomDataset(df, transform=transform)\n",
    "#Dataset splité\n",
    "train_dataset = CustomDataset(train_df, transform=transform)\n",
    "val_dataset = CustomDataset(val_df, transform=transform)\n",
    "test_dataset = CustomDataset(test_df, transform=transform)"
   ]
  },
  {
   "cell_type": "code",
   "execution_count": 8,
   "id": "e8871dce",
   "metadata": {
    "execution": {
     "iopub.execute_input": "2025-02-25T16:26:58.194939Z",
     "iopub.status.busy": "2025-02-25T16:26:58.194667Z",
     "iopub.status.idle": "2025-02-25T16:26:58.199211Z",
     "shell.execute_reply": "2025-02-25T16:26:58.198333Z"
    },
    "papermill": {
     "duration": 0.011132,
     "end_time": "2025-02-25T16:26:58.200754",
     "exception": false,
     "start_time": "2025-02-25T16:26:58.189622",
     "status": "completed"
    },
    "tags": []
   },
   "outputs": [],
   "source": [
    "#Création d'un Dataloader pour itération des données\n",
    "#Dataloader for data iteration\n",
    "\n",
    "#custom_loader = DataLoader(custom_dataset, batch_size=32, shuffle=True)\n",
    "#Dataset splité\n",
    "train_loader = DataLoader(train_dataset, batch_size=32, shuffle=True, num_workers=4)\n",
    "val_loader = DataLoader(val_dataset, batch_size=32, shuffle=False, num_workers=4)\n",
    "test_loader = DataLoader(test_dataset, batch_size=32, shuffle=False, num_workers=4)"
   ]
  },
  {
   "cell_type": "code",
   "execution_count": 9,
   "id": "e86a1448",
   "metadata": {
    "execution": {
     "iopub.execute_input": "2025-02-25T16:26:58.209963Z",
     "iopub.status.busy": "2025-02-25T16:26:58.209710Z",
     "iopub.status.idle": "2025-02-25T16:26:59.267425Z",
     "shell.execute_reply": "2025-02-25T16:26:59.266446Z"
    },
    "papermill": {
     "duration": 1.065125,
     "end_time": "2025-02-25T16:26:59.269837",
     "exception": false,
     "start_time": "2025-02-25T16:26:58.204712",
     "status": "completed"
    },
    "tags": []
   },
   "outputs": [
    {
     "name": "stderr",
     "output_type": "stream",
     "text": [
      "/usr/local/lib/python3.10/site-packages/torchvision/models/_utils.py:208: UserWarning: The parameter 'pretrained' is deprecated since 0.13 and may be removed in the future, please use 'weights' instead.\n",
      "  warnings.warn(\n"
     ]
    },
    {
     "name": "stderr",
     "output_type": "stream",
     "text": [
      "/usr/local/lib/python3.10/site-packages/torchvision/models/_utils.py:223: UserWarning: Arguments other than a weight enum or `None` for 'weights' are deprecated since 0.13 and may be removed in the future. The current behavior is equivalent to passing `weights=EfficientNet_B4_Weights.IMAGENET1K_V1`. You can also use `weights=EfficientNet_B4_Weights.DEFAULT` to get the most up-to-date weights.\n",
      "  warnings.warn(msg)\n"
     ]
    },
    {
     "name": "stderr",
     "output_type": "stream",
     "text": [
      "Downloading: \"https://download.pytorch.org/models/efficientnet_b4_rwightman-23ab8bcd.pth\" to /root/.cache/torch/hub/checkpoints/efficientnet_b4_rwightman-23ab8bcd.pth\n"
     ]
    },
    {
     "name": "stderr",
     "output_type": "stream",
     "text": [
      "\r",
      "  0%|          | 0.00/74.5M [00:00<?, ?B/s]"
     ]
    },
    {
     "name": "stderr",
     "output_type": "stream",
     "text": [
      "\r",
      " 22%|██▏       | 16.5M/74.5M [00:00<00:00, 172MB/s]"
     ]
    },
    {
     "name": "stderr",
     "output_type": "stream",
     "text": [
      "\r",
      " 47%|████▋     | 35.0M/74.5M [00:00<00:00, 184MB/s]"
     ]
    },
    {
     "name": "stderr",
     "output_type": "stream",
     "text": [
      "\r",
      " 72%|███████▏  | 53.5M/74.5M [00:00<00:00, 188MB/s]"
     ]
    },
    {
     "name": "stderr",
     "output_type": "stream",
     "text": [
      "\r",
      " 99%|█████████▉| 73.8M/74.5M [00:00<00:00, 198MB/s]"
     ]
    },
    {
     "name": "stderr",
     "output_type": "stream",
     "text": [
      "\r",
      "100%|██████████| 74.5M/74.5M [00:00<00:00, 191MB/s]"
     ]
    },
    {
     "name": "stderr",
     "output_type": "stream",
     "text": [
      "\n"
     ]
    }
   ],
   "source": [
    "# Charger le modèle EfficientNet-B0 pré-entraîné\n",
    "#model = models.efficientnet_b0(pretrained=True)\n",
    "\n",
    "# Charger MobileNetV2 pré-entraîné\n",
    "#model = models.mobilenet_v2(pretrained=True)\n",
    "\n",
    "# Adapter la dernière couche pour une classification binaire\n",
    "#model.classifier[1] = nn.Sequential(\n",
    "#    nn.Linear(model.last_channel, 1),  # Une seule sortie pour la classification binaire\n",
    "#    nn.Sigmoid()  # Activation pour les probabilités\n",
    "#)\n",
    "\n",
    "# Charger le modèle ResNet-18 pré-entraîné\n",
    "#model = models.resnet18(pretrained=True)\n",
    "# Adapter la dernière couche pour une sortie binaire\n",
    "#num_features = model.fc.in_features\n",
    "#model.fc = nn.Sequential(\n",
    "#    nn.Linear(num_features, 1),\n",
    "#    nn.Sigmoid()\n",
    "#)\n",
    "\n",
    "# Charger SqueezeNet pré-entraîné\n",
    "#model = models.squeezenet1_1(pretrained=True)\n",
    "# Modifier la dernière couche du modèle pour SqueezeNet\n",
    "#model.classifier[1] = nn.Conv2d(512, 1, kernel_size=(1, 1))\n",
    "\n",
    "# Charger le modèle EfficientNet-B4 pré-entraîné\n",
    "model = models.efficientnet_b4(pretrained=True)\n",
    "# Adapter la dernière couche pour une sortie binaire\n",
    "num_features = model.classifier[1].in_features\n",
    "model.classifier = nn.Sequential(\n",
    "    nn.Linear(num_features, 1),  # Une seule sortie pour binaire\n",
    "    nn.Sigmoid()  # Activation sigmoïde pour probabilité\n",
    ")\n",
    "\n",
    "\n",
    "# Déplacer le modèle sur le GPU si disponible\n",
    "device = torch.device(\"cuda\" if torch.cuda.is_available() else \"cpu\")\n",
    "model = model.to(device)\n",
    "\n",
    "#print(model)"
   ]
  },
  {
   "cell_type": "code",
   "execution_count": 10,
   "id": "26b776e8",
   "metadata": {
    "execution": {
     "iopub.execute_input": "2025-02-25T16:26:59.280590Z",
     "iopub.status.busy": "2025-02-25T16:26:59.280308Z",
     "iopub.status.idle": "2025-02-25T16:26:59.286834Z",
     "shell.execute_reply": "2025-02-25T16:26:59.285724Z"
    },
    "papermill": {
     "duration": 0.013696,
     "end_time": "2025-02-25T16:26:59.288215",
     "exception": false,
     "start_time": "2025-02-25T16:26:59.274519",
     "status": "completed"
    },
    "tags": []
   },
   "outputs": [],
   "source": [
    "#Définir la fonction de perte et l'optimiseur\n",
    "#Define lost function and optimiser\n",
    "criterion = nn.BCELoss()  # Binary Cross-Entropy Loss\n",
    "optimizer = torch.optim.Adam(model.parameters(), lr=0.001)"
   ]
  },
  {
   "cell_type": "code",
   "execution_count": 11,
   "id": "d8e3992a",
   "metadata": {
    "execution": {
     "iopub.execute_input": "2025-02-25T16:26:59.298898Z",
     "iopub.status.busy": "2025-02-25T16:26:59.298650Z",
     "iopub.status.idle": "2025-02-25T23:08:09.201966Z",
     "shell.execute_reply": "2025-02-25T23:08:09.200684Z"
    },
    "papermill": {
     "duration": 24069.91474,
     "end_time": "2025-02-25T23:08:09.207355",
     "exception": false,
     "start_time": "2025-02-25T16:26:59.292615",
     "status": "completed"
    },
    "tags": []
   },
   "outputs": [
    {
     "name": "stdout",
     "output_type": "stream",
     "text": [
      "Époque 1, Perte entraînement : 0.0251, Perte validation : 0.0044, Exactitude validation : 99.84%"
     ]
    },
    {
     "name": "stdout",
     "output_type": "stream",
     "text": [
      "\n"
     ]
    },
    {
     "name": "stdout",
     "output_type": "stream",
     "text": [
      "Époque 2, Perte entraînement : 0.0068, Perte validation : 0.0167, Exactitude validation : 99.52%\n"
     ]
    }
   ],
   "source": [
    "#Entraînement du modèle 1\n",
    "#Fit model 1\n",
    "# Entraînement du modèle\n",
    "for epoch in range(2):  # Nombre d'époques\n",
    "    model.train()\n",
    "    running_loss = 0.0\n",
    "    for inputs, labels in train_loader:\n",
    "        inputs, labels = inputs.to(device), labels.to(device)\n",
    "        labels = labels.view(-1, 1)  # Adapter les dimensions des labels\n",
    "\n",
    "        # Forward pass\n",
    "        outputs = model(inputs)\n",
    "        loss = criterion(outputs, labels)\n",
    "\n",
    "        # Backward pass et optimisation\n",
    "        optimizer.zero_grad()\n",
    "        loss.backward()\n",
    "        optimizer.step()\n",
    "\n",
    "        running_loss += loss.item()\n",
    "\n",
    "    # Évaluation sur l'ensemble de validation\n",
    "    model.eval()\n",
    "    val_loss = 0.0\n",
    "    correct = 0\n",
    "    total = 0\n",
    "    with torch.no_grad():\n",
    "        for inputs, labels in val_loader:\n",
    "            inputs, labels = inputs.to(device), labels.to(device)\n",
    "            labels = labels.view(-1, 1)\n",
    "\n",
    "            outputs = model(inputs)\n",
    "            loss = criterion(outputs, labels)\n",
    "            val_loss += loss.item()\n",
    "\n",
    "            predictions = (outputs > 0.5).float()\n",
    "            correct += (predictions.view(-1) == labels.view(-1)).sum().item()\n",
    "            total += labels.size(0)\n",
    "\n",
    "    val_accuracy = 100 * correct / total\n",
    "    print(f\"Époque {epoch+1}, Perte entraînement : {running_loss/len(train_loader):.4f}, Perte validation : {val_loss/len(val_loader):.4f}, Exactitude validation : {val_accuracy:.2f}%\")\n"
   ]
  },
  {
   "cell_type": "code",
   "execution_count": 12,
   "id": "54646f51",
   "metadata": {
    "execution": {
     "iopub.execute_input": "2025-02-25T23:08:09.218707Z",
     "iopub.status.busy": "2025-02-25T23:08:09.218440Z",
     "iopub.status.idle": "2025-02-25T23:13:08.687997Z",
     "shell.execute_reply": "2025-02-25T23:13:08.686717Z"
    },
    "papermill": {
     "duration": 299.481255,
     "end_time": "2025-02-25T23:13:08.693507",
     "exception": false,
     "start_time": "2025-02-25T23:08:09.212252",
     "status": "completed"
    },
    "tags": []
   },
   "outputs": [
    {
     "name": "stdout",
     "output_type": "stream",
     "text": [
      "Exactitude : 99.47%\n"
     ]
    }
   ],
   "source": [
    "# Évaluation du modèle\n",
    "model.eval()\n",
    "correct = 0\n",
    "total = 0\n",
    "with torch.no_grad():\n",
    "    for inputs, labels in test_loader:\n",
    "        inputs, labels = inputs.to(device), labels.to(device)\n",
    "        outputs = model(inputs)\n",
    "        predictions = (outputs > 0.5).float()\n",
    "        correct += (predictions.view(-1) == labels).sum().item()\n",
    "        total += labels.size(0)\n",
    "\n",
    "print(f\"Exactitude : {100 * correct / total:.2f}%\")"
   ]
  },
  {
   "cell_type": "code",
   "execution_count": 13,
   "id": "d6268583",
   "metadata": {
    "execution": {
     "iopub.execute_input": "2025-02-25T23:13:08.704929Z",
     "iopub.status.busy": "2025-02-25T23:13:08.704628Z",
     "iopub.status.idle": "2025-02-25T23:13:08.859330Z",
     "shell.execute_reply": "2025-02-25T23:13:08.858424Z"
    },
    "papermill": {
     "duration": 0.162751,
     "end_time": "2025-02-25T23:13:08.861049",
     "exception": false,
     "start_time": "2025-02-25T23:13:08.698298",
     "status": "completed"
    },
    "tags": []
   },
   "outputs": [],
   "source": [
    "# Sauvegarder le modèle\n",
    "torch.save(model.state_dict(), 'efficientnet_b4_model_SYS.pth')\n",
    "\n",
    "# Charger le modèle pour l'inférence\n",
    "#model.load_state_dict(torch.load('efficientnet_b4_model_SYS.pth'))\n",
    "#model.eval()"
   ]
  },
  {
   "cell_type": "markdown",
   "id": "ad52fcab",
   "metadata": {
    "papermill": {
     "duration": 0.004101,
     "end_time": "2025-02-25T23:13:08.869503",
     "exception": false,
     "start_time": "2025-02-25T23:13:08.865402",
     "status": "completed"
    },
    "tags": []
   },
   "source": [
    "**CLASSIFICATION DES IMAGES TEST NON ETIQUETEES - UNLABELED IMAGES CLASSIFICATION**"
   ]
  },
  {
   "cell_type": "code",
   "execution_count": 14,
   "id": "50e31f78",
   "metadata": {
    "execution": {
     "iopub.execute_input": "2025-02-25T23:13:08.880006Z",
     "iopub.status.busy": "2025-02-25T23:13:08.879687Z",
     "iopub.status.idle": "2025-02-25T23:13:08.914106Z",
     "shell.execute_reply": "2025-02-25T23:13:08.913153Z"
    },
    "papermill": {
     "duration": 0.041624,
     "end_time": "2025-02-25T23:13:08.915573",
     "exception": false,
     "start_time": "2025-02-25T23:13:08.873949",
     "status": "completed"
    },
    "tags": []
   },
   "outputs": [
    {
     "name": "stdout",
     "output_type": "stream",
     "text": [
      "0    test_data_v2/1a2d9fd3e21b4266aea1f66b30aed157.jpg\n",
      "1    test_data_v2/ab5df8f441fe4fbf9dc9c6baae699dc7.jpg\n",
      "2    test_data_v2/eb364dd2dfe34feda0e52466b7ce7956.jpg\n",
      "3    test_data_v2/f76c2580e9644d85a741a42c6f6b39c0.jpg\n",
      "4    test_data_v2/a16495c578b7494683805484ca27cf9f.jpg\n",
      "Name: id, dtype: object\n"
     ]
    }
   ],
   "source": [
    "#Préparation des données de test final\n",
    "#Final test data preparation\n",
    "test_csv_path = '/kaggle/input/ai-vs-human-generated-dataset/test.csv'\n",
    "test_csv = pd.read_csv(test_csv_path)\n",
    "id_csv = test_csv['id']\n",
    "test_csv['id'] = test_csv['id'].apply(lambda name : get_image_path(folder_path, name))\n",
    "\n",
    "#Chargement d'un Dataset léger pour tester mon code\n",
    "#Low weight dataset loding - in order to test my code before the big loading\n",
    "test_test_csv = test_csv.head(50)\n",
    "test_data_set = test_test_csv\n",
    "\n",
    "#Chargement du Dataset complet\n",
    "#Full dataset loading\n",
    "test_data_set = test_csv\n",
    "\n",
    "#Création du DataFrame de test\n",
    "#Test Dataframe creation\n",
    "df_test = pd.DataFrame(test_data_set)\n",
    "print(id_csv.head())"
   ]
  },
  {
   "cell_type": "code",
   "execution_count": 15,
   "id": "4e8d8dc7",
   "metadata": {
    "execution": {
     "iopub.execute_input": "2025-02-25T23:13:08.925841Z",
     "iopub.status.busy": "2025-02-25T23:13:08.925615Z",
     "iopub.status.idle": "2025-02-25T23:13:08.930955Z",
     "shell.execute_reply": "2025-02-25T23:13:08.929978Z"
    },
    "papermill": {
     "duration": 0.01269,
     "end_time": "2025-02-25T23:13:08.932497",
     "exception": false,
     "start_time": "2025-02-25T23:13:08.919807",
     "status": "completed"
    },
    "tags": []
   },
   "outputs": [],
   "source": [
    "#Création d'un DataLoader_test avec une classe\n",
    "#Dataloader own class creation\n",
    "class CustomDataset(Dataset):\n",
    "    def __init__(self, dataframe, transform=None):\n",
    "        self.dataframe = dataframe\n",
    "        self.transform = transform\n",
    "\n",
    "    def __len__(self):\n",
    "        return len(self.dataframe)\n",
    "\n",
    "    def __getitem__(self, idx):\n",
    "        img_path = self.dataframe.iloc[idx]['id']\n",
    "\n",
    "        # Charger l'image\n",
    "        # load image\n",
    "        image = Image.open(img_path).convert(\"RGB\")\n",
    "\n",
    "        # Appliquer les transformations si spécifiées\n",
    "        # Apply transformation\n",
    "        if self.transform:\n",
    "            image = self.transform(image)\n",
    "\n",
    "        return image, self.dataframe.iloc[idx]['id']\n"
   ]
  },
  {
   "cell_type": "code",
   "execution_count": 16,
   "id": "4389e973",
   "metadata": {
    "execution": {
     "iopub.execute_input": "2025-02-25T23:13:08.942567Z",
     "iopub.status.busy": "2025-02-25T23:13:08.942358Z",
     "iopub.status.idle": "2025-02-25T23:13:08.946861Z",
     "shell.execute_reply": "2025-02-25T23:13:08.945812Z"
    },
    "papermill": {
     "duration": 0.011724,
     "end_time": "2025-02-25T23:13:08.948416",
     "exception": false,
     "start_time": "2025-02-25T23:13:08.936692",
     "status": "completed"
    },
    "tags": []
   },
   "outputs": [],
   "source": [
    "#Création d'une instance de DataSet customisé\n",
    "#Dataset with transformation creation\n",
    "custom_dataset_test = CustomDataset(df_test, transform=transform)\n",
    "\n",
    "#Création d'un Dataloader pour itération des données\n",
    "#Dataloader for data iteration\n",
    "custom_loader_test = DataLoader(custom_dataset_test, batch_size=32, shuffle=True, num_workers=4)"
   ]
  },
  {
   "cell_type": "code",
   "execution_count": 17,
   "id": "451fbde4",
   "metadata": {
    "execution": {
     "iopub.execute_input": "2025-02-25T23:13:08.958757Z",
     "iopub.status.busy": "2025-02-25T23:13:08.958544Z",
     "iopub.status.idle": "2025-02-25T23:13:08.962170Z",
     "shell.execute_reply": "2025-02-25T23:13:08.961053Z"
    },
    "papermill": {
     "duration": 0.010363,
     "end_time": "2025-02-25T23:13:08.963501",
     "exception": false,
     "start_time": "2025-02-25T23:13:08.953138",
     "status": "completed"
    },
    "tags": []
   },
   "outputs": [],
   "source": [
    "# Liste pour stocker les résultats\n",
    "results = []\n",
    "id_counter = 0  # Initialisation du compteur d'ID"
   ]
  },
  {
   "cell_type": "code",
   "execution_count": 18,
   "id": "2ad30d19",
   "metadata": {
    "execution": {
     "iopub.execute_input": "2025-02-25T23:13:08.973881Z",
     "iopub.status.busy": "2025-02-25T23:13:08.973654Z",
     "iopub.status.idle": "2025-02-25T23:16:41.321860Z",
     "shell.execute_reply": "2025-02-25T23:16:41.320359Z"
    },
    "papermill": {
     "duration": 212.359627,
     "end_time": "2025-02-25T23:16:41.327370",
     "exception": false,
     "start_time": "2025-02-25T23:13:08.967743",
     "status": "completed"
    },
    "tags": []
   },
   "outputs": [
    {
     "name": "stdout",
     "output_type": "stream",
     "text": [
      "Fichier CSV généré : predictions.csv\n",
      "                                                     id  label\n",
      "0     test_data_v2/1a2d9fd3e21b4266aea1f66b30aed157.jpg      0\n",
      "1     test_data_v2/ab5df8f441fe4fbf9dc9c6baae699dc7.jpg      0\n",
      "2     test_data_v2/eb364dd2dfe34feda0e52466b7ce7956.jpg      0\n",
      "3     test_data_v2/f76c2580e9644d85a741a42c6f6b39c0.jpg      0\n",
      "4     test_data_v2/a16495c578b7494683805484ca27cf9f.jpg      0\n",
      "...                                                 ...    ...\n",
      "5535  test_data_v2/483412064ff74d9d9472d606b65976d9.jpg      0\n",
      "5536  test_data_v2/c0b49ba4081a4197b422dac7c15aea7f.jpg      1\n",
      "5537  test_data_v2/01454aaedec140c0a3ca1f48028c41cf.jpg      0\n",
      "5538  test_data_v2/e9adfea8b67e4791968c4c2bdd8ec343.jpg      1\n",
      "5539  test_data_v2/ba8f4198e8d74d3394fa56c56af23442.jpg      0\n",
      "\n",
      "[5540 rows x 2 columns]\n"
     ]
    }
   ],
   "source": [
    "# Itérer sur le DataLoader et faire des prédictions\n",
    "# Prédictions sur les données non étiquetées\n",
    "model.eval()\n",
    "with torch.no_grad():\n",
    "    for i, (inputs, _) in enumerate(custom_loader_test):  # On ignore le label puisque les images sont non étiquetées\n",
    "        inputs = inputs.to(device)\n",
    "        outputs = model(inputs)\n",
    "        predictions = (outputs > 0.5).int()  # Convertir les probabilités en 0/1\n",
    "\n",
    "        # Ajouter chaque prédiction au tableau des résultats\n",
    "        for pred in predictions.cpu().numpy():\n",
    "            #results.append({'id': len(results) + 1, 'label': int(pred)})\n",
    "            results.append({'id': id_csv[id_counter], 'label': int(pred.item() if hasattr(pred, 'item') else pred)})\n",
    "            id_counter += 1  # Incrémenter le compteur\n",
    "\n",
    "\n",
    "# Convertir en DataFrame\n",
    "results_df = pd.DataFrame(results)\n",
    "\n",
    "# Sauvegarder le DataFrame en fichier CSV\n",
    "output_csv_path = \"predictions.csv\"\n",
    "#results_df.to_csv(output_csv_path, index=False, sep=';')\n",
    "results_df.to_csv(output_csv_path, index=False, sep=',')\n",
    "\n",
    "print(f\"Fichier CSV généré : {output_csv_path}\")\n",
    "print(results_df)\n"
   ]
  },
  {
   "cell_type": "code",
   "execution_count": 19,
   "id": "94febb49",
   "metadata": {
    "execution": {
     "iopub.execute_input": "2025-02-25T23:16:41.339626Z",
     "iopub.status.busy": "2025-02-25T23:16:41.339360Z",
     "iopub.status.idle": "2025-02-25T23:16:41.348043Z",
     "shell.execute_reply": "2025-02-25T23:16:41.347147Z"
    },
    "papermill": {
     "duration": 0.017073,
     "end_time": "2025-02-25T23:16:41.349708",
     "exception": false,
     "start_time": "2025-02-25T23:16:41.332635",
     "status": "completed"
    },
    "tags": []
   },
   "outputs": [
    {
     "data": {
      "text/html": [
       "<a href='predictions.csv' target='_blank'>predictions.csv</a><br>"
      ],
      "text/plain": [
       "/kaggle/working/predictions.csv"
      ]
     },
     "execution_count": 19,
     "metadata": {},
     "output_type": "execute_result"
    }
   ],
   "source": [
    "from IPython.display import FileLink\n",
    "FileLink(output_csv_path)"
   ]
  }
 ],
 "metadata": {
  "kaggle": {
   "accelerator": "tpu1vmV38",
   "dataSources": [
    {
     "databundleVersionId": 10884264,
     "sourceId": 91198,
     "sourceType": "competition"
    },
    {
     "datasetId": 6412205,
     "sourceId": 10550636,
     "sourceType": "datasetVersion"
    }
   ],
   "dockerImageVersionId": 30839,
   "isGpuEnabled": false,
   "isInternetEnabled": true,
   "language": "python",
   "sourceType": "notebook"
  },
  "kernelspec": {
   "display_name": "Python 3",
   "language": "python",
   "name": "python3"
  },
  "language_info": {
   "codemirror_mode": {
    "name": "ipython",
    "version": 3
   },
   "file_extension": ".py",
   "mimetype": "text/x-python",
   "name": "python",
   "nbconvert_exporter": "python",
   "pygments_lexer": "ipython3",
   "version": "3.10.16"
  },
  "papermill": {
   "default_parameters": {},
   "duration": 24625.563639,
   "end_time": "2025-02-25T23:16:45.733268",
   "environment_variables": {},
   "exception": null,
   "input_path": "__notebook__.ipynb",
   "output_path": "__notebook__.ipynb",
   "parameters": {},
   "start_time": "2025-02-25T16:26:20.169629",
   "version": "2.6.0"
  }
 },
 "nbformat": 4,
 "nbformat_minor": 5
}
